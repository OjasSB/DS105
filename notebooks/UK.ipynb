{
 "cells": [
  {
   "cell_type": "code",
   "execution_count": null,
   "metadata": {},
   "outputs": [],
   "source": [
    "import requests\n",
    "import json\n",
    "import html\n",
    "from bs4 import BeautifulSoup\n",
    "import pandas as pd\n",
    "import numpy as np\n",
    "import re\n",
    "from IPython.display import HTML\n",
    "from plotnine import *\n",
    "from plotnine.data import *\n",
    "import matplotlib.pyplot as plt"
   ]
  },
  {
   "attachments": {},
   "cell_type": "markdown",
   "metadata": {},
   "source": [
    "ENGLAND"
   ]
  },
  {
   "cell_type": "code",
   "execution_count": null,
   "metadata": {},
   "outputs": [],
   "source": [
    "# I want to use the Wikipedia API to get the html for the page that lists current sitting England MPs\n",
    "eng_page_key = 'List_of_MPs_for_constituencies_in_England_(2019–present)'\n",
    "eng_page_endpoint = 'page/' + eng_page_key + '/html'\n",
    "stem_url = 'https://en.wikipedia.org/w/rest.php/v1/'\n",
    "universal_url = 'https://en.wikipedia.org/wiki/'\n",
    "headers = {'User-Agent': 'Student Project'}\n",
    "\n",
    "eng_url = stem_url + eng_page_endpoint\n",
    "\n",
    "def get_html(url):\n",
    "    r = requests.get(url, headers=headers)\n",
    "    s = BeautifulSoup(r.text)\n",
    "    return s\n",
    "\n",
    "# I want to get a list of all the wikitables on the page\n",
    "def get_wikitables(s):\n",
    "    wikitables = s.find_all('table', class_='wikitable')\n",
    "    return wikitables\n",
    "\n",
    "# I want to get only the 3rd, 5th, 7th, 9th, 11th, 13th, 15th, 17th and 19th tables in one list, as these contain the MPs\n",
    "england_mp_wikitables = get_wikitables(get_html(eng_url))[2:20:2]\n",
    "england_mp_wikitables\n",
    "\n",
    "# I want to get the links from the mp tables and put them in a list\n",
    "eng_names = [link.text for table in england_mp_wikitables for link in table.find_all('span', class_='fn')]\n",
    "eng_names = [link.replace(\" \", \"_\") for link in eng_names]\n",
    "eng_links = [link.find('a')['href'] for table in england_mp_wikitables for link in table.find_all('span', class_='fn')]\n",
    "england_mp_links = [link.replace(\"./\", universal_url) for link in eng_links]\n",
    "england_mp_links\n",
    "\n",
    "\n",
    "\n"
   ]
  },
  {
   "cell_type": "code",
   "execution_count": null,
   "metadata": {},
   "outputs": [],
   "source": [
    "# I need to get rid of the 12 MPs who have resigned or died since the last election - they are only in the england page, and are italicised in the page\n",
    "page_html = get_html(eng_url).find_all('i')\n",
    "relevant_lines = page_html[1:13]\n",
    "resigned_MP_links = [link.get('href') for i in relevant_lines for link in i.find_all('a')]\n",
    "resigned_MP_links = [link.replace(\"./\", universal_url) for link in resigned_MP_links]\n",
    "resigned_MP_links = [link.replace(\" \", \"_\") for link in resigned_MP_links]\n",
    "len(resigned_MP_links)\n",
    "# I want to get rid of the resigned MPs from the list of links\n",
    "england_mp_links_final = [link for link in england_mp_links if link not in resigned_MP_links]\n",
    "len(england_mp_links_final)\n",
    "# I encounter an issue here - there is one too few MP for England (532 instead of 533)\n"
   ]
  },
  {
   "attachments": {},
   "cell_type": "markdown",
   "metadata": {},
   "source": [
    "I will investigate the missing MP later, using TheyWorkForYou's database of sitting MPs, after completing analysis for other parts of the UK"
   ]
  },
  {
   "attachments": {},
   "cell_type": "markdown",
   "metadata": {},
   "source": [
    "WALES"
   ]
  },
  {
   "cell_type": "code",
   "execution_count": null,
   "metadata": {},
   "outputs": [],
   "source": [
    "# I want to use the Wikipedia API to get the html for the page that lists current sitting Welsh MPs\n",
    "wal_page_key = 'List_of_MPs_for_constituencies_in_Wales_(2019–present)'\n",
    "wal_page_endpoint = 'page/' + wal_page_key + '/html'\n",
    "stem_url = 'https://en.wikipedia.org/w/rest.php/v1/'\n",
    "universal_url = 'https://en.wikipedia.org/wiki/'\n",
    "headers = {'User-Agent': 'Student Project'}\n",
    "\n",
    "wal_url = stem_url + wal_page_endpoint\n",
    "\n",
    "wales_mp_wikitables = get_wikitables(get_html(wal_url))[1]\n",
    "wales_mp_wikitables\n",
    "\n",
    "wal_names = [link.text for link in wales_mp_wikitables.find_all('span', class_='fn')]\n",
    "wal_names = [link.replace(\" \", \"_\") for link in wal_names]\n",
    "wal_links = [link.find('a')['href'] for link in wales_mp_wikitables.find_all('span', class_='fn')]\n",
    "wales_mp_links = [link.replace(\"./\", universal_url) for link in wal_links]\n",
    "len(wales_mp_links)\n",
    "\n",
    "\n",
    "\n"
   ]
  },
  {
   "attachments": {},
   "cell_type": "markdown",
   "metadata": {},
   "source": [
    "SCOTLAND"
   ]
  },
  {
   "cell_type": "code",
   "execution_count": null,
   "metadata": {},
   "outputs": [],
   "source": [
    "sco_page_key = 'List_of_MPs_for_constituencies_in_Scotland_(2019–present)'\n",
    "sco_page_endpoint = 'page/' + sco_page_key + '/html'\n",
    "stem_url = 'https://en.wikipedia.org/w/rest.php/v1/'\n",
    "universal_url = 'https://en.wikipedia.org/wiki/'\n",
    "headers = {'User-Agent': 'Student Project'}\n",
    "\n",
    "sco_url = stem_url + sco_page_endpoint\n",
    "\n",
    "scotland_mp_wikitables = get_wikitables(get_html(sco_url))[1]\n",
    "scotland_mp_wikitables\n",
    "\n",
    "# I want to get the links from the mp tables and put them in a list\n",
    "sco_names = [link.text for link in scotland_mp_wikitables.find_all('span', class_='fn')]\n",
    "sco_names = [link.replace(\" \", \"_\") for link in sco_names]\n",
    "sco_links = [link.find('a')['href'] for link in scotland_mp_wikitables.find_all('span', class_='fn')]\n",
    "scotland_mp_links = [link.replace(\"./\", universal_url) for link in sco_links]\n",
    "len(scotland_mp_links)\n",
    "\n"
   ]
  },
  {
   "attachments": {},
   "cell_type": "markdown",
   "metadata": {},
   "source": [
    "NORTHERN IRELAND"
   ]
  },
  {
   "cell_type": "code",
   "execution_count": null,
   "metadata": {},
   "outputs": [],
   "source": [
    "ni_page_key = 'List_of_MPs_for_constituencies_in_Northern_Ireland_(2019–present)'\n",
    "ni_page_endpoint = 'page/' + ni_page_key + '/html'\n",
    "stem_url = 'https://en.wikipedia.org/w/rest.php/v1/'\n",
    "universal_url = 'https://en.wikipedia.org/wiki/'\n",
    "headers = {'User-Agent': 'Student Project'}\n",
    "\n",
    "ni_url = stem_url + ni_page_endpoint\n",
    "\n",
    "northern_ireland_mp_wikitables = get_wikitables(get_html(ni_url))[2]\n",
    "northern_ireland_mp_wikitables\n",
    "\n",
    "# I want to get the links from the mp tables and put them in a list\n",
    "\n",
    "ni_names = [link.text for link in northern_ireland_mp_wikitables.find_all('span', class_='fn')]\n",
    "ni_names = [link.replace(\" \", \"_\") for link in ni_names]\n",
    "ni_links = [link.find('a')['href'] for link in northern_ireland_mp_wikitables.find_all('span', class_='fn')]\n",
    "northern_ireland_mp_links = [link.replace(\"./\", universal_url) for link in ni_links]\n",
    "len(northern_ireland_mp_links)\n"
   ]
  },
  {
   "attachments": {},
   "cell_type": "markdown",
   "metadata": {},
   "source": [
    "Now I will combine the lists of links to get a Great Britain list of MPs Wikipedia links (650)"
   ]
  },
  {
   "cell_type": "code",
   "execution_count": null,
   "metadata": {},
   "outputs": [],
   "source": [
    "uk_mp_links = england_mp_links_final + wales_mp_links + scotland_mp_links + northern_ireland_mp_links\n",
    "len(uk_mp_links)\n",
    "# Something is wrong - there are 650 sitting MPs, but I have 649 links. I need to find out which one is missing"
   ]
  },
  {
   "attachments": {},
   "cell_type": "markdown",
   "metadata": {},
   "source": [
    "Now I return to the question of why England has one too few MPs after removing the 12 MPs who are no longer serving\n",
    "I will use the TheyWorkForYou webpage for sitting MPs to crosscheck"
   ]
  },
  {
   "cell_type": "code",
   "execution_count": null,
   "metadata": {},
   "outputs": [],
   "source": [
    "pages_html = get_html('https://www.theyworkforyou.com/mps/')\n",
    "mp_names_twfy = pages_html.find_all('h2', class_='people-list__person__name')\n",
    "mp_names_twfy = [link.text for link in mp_names_twfy]\n",
    "mp_names_twfy = [link.replace(\" \", \"_\") for link in mp_names_twfy]\n",
    "len(mp_names_twfy)\n",
    "# Now using regex I want to see which name is missing from my list of 649 UK MPs\n",
    "missing_by_regex = [name for name in mp_names_twfy if re.search(name, str(uk_mp_links)) == None]\n",
    "missing_by_regex\n",
    "# Given the nature of some names (eg Jon Ashworth vs Jonathan Ashworth) I need to find the missing MP by hand from this list of 23 anomalies identified by regex search\n",
    "# I have found that the missing MP is Kim Leadbeater, who was elected in July 2021 - this is a mistake on Wikipedia's part, for not including her in the longlist of MPs at time of writing (she replaced Tracy Babin post-resignation, but her name was not added to the England list)\n",
    "# I will add her to the list of links manually, but add a check in case she is added to the Wikipedia list in the future\n",
    "missing_mp_link = 'https://en.wikipedia.org/wiki/Kim_Leadbeater'\n",
    "def add_missing_link(link):\n",
    "    if link not in uk_mp_links:\n",
    "        uk_mp_links.append(link)\n",
    "    else:\n",
    "        pass\n",
    "    return uk_mp_links\n",
    "\n",
    "uk_mp_links_final = add_missing_link(missing_mp_link)\n",
    "len(uk_mp_links_final)\n",
    "# I now have 650 links, which is correct\n",
    "\n"
   ]
  },
  {
   "attachments": {},
   "cell_type": "markdown",
   "metadata": {},
   "source": [
    "Now I can begin extracting the relevant information for our UK-focused analysis, which is MP birth date and MP alma mater (university)"
   ]
  },
  {
   "cell_type": "code",
   "execution_count": null,
   "metadata": {},
   "outputs": [],
   "source": [
    "# I want to create a function that takes a link to a UK MP's Wikipedia page and returns a dictionary of their name, birth date, party and university\n",
    "def get_mp_info(link):\n",
    "        mp_info = {}\n",
    "        mp_page_html = get_html(link)\n",
    "        mp_page_infobox = mp_page_html.find('table', class_='infobox')\n",
    "        try: \n",
    "            mp_info['name'] = mp_page_html.find('div', class_='fn').text\n",
    "        except: \n",
    "            mp_info['name'] = None\n",
    "        if mp_info['name'] == 'Nigel Evans':\n",
    "            mp_info['birth date'] = '1957-11-10'\n",
    "        else:\n",
    "            try:\n",
    "                mp_info['birth date'] = mp_page_html.find('span', class_ = 'bday').text\n",
    "            except:\n",
    "                mp_info['birth date'] = None\n",
    "        all_mp_page_links = mp_page_infobox.find_all('a', title = True)\n",
    "        try:\n",
    "            mp_info['party'] = [link.text for link in all_mp_page_links if re.search('Party|Liberal Democrats|Co-operative|Sinn|Independent|Conservative|Labour|Plaid', str(link)) != None][0]\n",
    "        except:\n",
    "            mp_info['party'] = None\n",
    "        try:\n",
    "            mp_info['university'] = [link.text for link in all_mp_page_links if re.search('University|London School of Economics|Imperial|Guildhall|Malachy|, Oxford|, Cambridge|Oxford$|Cambridge$', str(link)) != None][0]\n",
    "        except:\n",
    "            mp_info['university'] = None\n",
    "        return mp_info\n",
    "\n",
    "# I want to test the function on a random MP\n",
    "get_mp_info('https://en.wikipedia.org/wiki/Shailesh_Vara')\n",
    "\n"
   ]
  },
  {
   "attachments": {},
   "cell_type": "markdown",
   "metadata": {},
   "source": [
    "Now I can get a dataframe of all sitting MPs birth date, party, alma mater and name"
   ]
  },
  {
   "cell_type": "code",
   "execution_count": null,
   "metadata": {},
   "outputs": [],
   "source": [
    "uk_mps_df = pd.DataFrame([get_mp_info(link) for link in uk_mp_links_final])\n",
    "# NB takes <5 mins to run"
   ]
  },
  {
   "cell_type": "code",
   "execution_count": null,
   "metadata": {},
   "outputs": [],
   "source": [
    "uk_mps_df['birth date'] = pd.to_datetime(uk_mps_df['birth date'])\n",
    "uk_mps_df['age'] = round((pd.to_datetime('today') - uk_mps_df['birth date'])/np.timedelta64(1,'Y'), 1)\n",
    "uk_mps_df.to_csv('../data/uk_mps_dataframe.csv', index=False)\n",
    "uk_mps_df"
   ]
  },
  {
   "attachments": {},
   "cell_type": "markdown",
   "metadata": {},
   "source": [
    "Now that the dataset is saved, and the dataframe has been created, we can now perform analysis on the UK data"
   ]
  },
  {
   "cell_type": "code",
   "execution_count": null,
   "metadata": {},
   "outputs": [],
   "source": [
    "uk_mps_df.info()\n",
    "uk_mps_df.describe()\n",
    "# Clearly we have some missing values for university (problems with the wikipedia page not containing this information)\n",
    "# therefore births analysis will be limited to MPs for whom birth data is available\n",
    "# university analysis will be limited to university-attendees where data is available 507/650"
   ]
  },
  {
   "attachments": {},
   "cell_type": "markdown",
   "metadata": {},
   "source": [
    "BIRTHS ANALYSIS"
   ]
  },
  {
   "cell_type": "code",
   "execution_count": null,
   "metadata": {},
   "outputs": [],
   "source": [
    "# UN data for UK for comparison\n",
    "UN_births_data=pd.read_csv('../data/Births Data UN.csv')\n",
    "UN_births_data.drop(['Area', 'Record Type', 'Value Footnotes', 'Source Year'],axis=1,inplace=True)\n",
    "UN_births_data=UN_births_data.query(\"Month in ['January','February','March','April','May','June','July','August','September','October','November','December']\")\n",
    "UN_births_data\n",
    "# I want a subset of UN_births_data for the UK only\n",
    "UK_UN_births_data = UN_births_data.loc[UN_births_data['Country or Area'] == 'United Kingdom of Great Britain and Northern Ireland']\n",
    "# we have data for the period 1982 to 2020, which is acceptable\n",
    "UK_UN_births_data = UK_UN_births_data.groupby('Month').sum()[['Value']].reindex(['January','February','March','April','May','June','July','August','September','October','November','December'])\n",
    "UK_UN_births_data.index=['Jan','Feb','Mar','Apr','May','Jun','Jul','Aug','Sep','Oct','Nov','Dec']\n",
    "UK_UN_births_data['uk_population_births_percentage']=(UK_UN_births_data['Value']/UK_UN_births_data['Value'].sum()*100).round(2)\n",
    "UK_UN_births_data.rename(columns={'Value':'uk_un_births_count'},inplace=True)\n",
    "UK_UN_births_data.transpose()\n",
    "\n"
   ]
  },
  {
   "cell_type": "code",
   "execution_count": null,
   "metadata": {},
   "outputs": [],
   "source": [
    "monthly_mp_data=uk_mps_df.groupby(uk_mps_df['birth date'].dt.month).count()[['name']]\n",
    "monthly_mp_data.index=['Jan','Feb','Mar','Apr','May','Jun','Jul','Aug','Sep','Oct','Nov','Dec']\n",
    "monthly_mp_data['uk_mps_births_percentage']=(monthly_mp_data['name']/monthly_mp_data['name'].sum()*100).round(1)\n",
    "monthly_mp_data.rename(columns={'name':'uk_mp_count'},inplace=True)\n",
    "monthly_mp_data.transpose()"
   ]
  },
  {
   "cell_type": "code",
   "execution_count": null,
   "metadata": {},
   "outputs": [],
   "source": [
    "merged_uk_df = pd.merge(monthly_mp_data,UK_UN_births_data,how='left',left_index=True,right_index=True)\n",
    "merged_uk_df['percentage_difference'] = (merged_uk_df['uk_mps_births_percentage'] - merged_uk_df['uk_population_births_percentage'])/merged_uk_df['uk_population_births_percentage']*100\n",
    "merged_uk_df"
   ]
  },
  {
   "cell_type": "code",
   "execution_count": null,
   "metadata": {},
   "outputs": [],
   "source": [
    "merged_uk_df['month'] = merged_uk_df.index\n",
    "merged_uk_df['month'] = pd.Categorical(merged_uk_df['month'], categories=['Jan','Feb','Mar','Apr','May','Jun','Jul','Aug','Sep','Oct','Nov','Dec'], ordered=True)\n",
    "merged_uk_df.plot(x='month', y=['uk_mps_births_percentage','uk_population_births_percentage'], legend=True, kind='bar', title='UK MP births per month (%) vs UK births per month (%)', figsize=(15,10), color=['blue', 'green'])\n",
    "plt.show()"
   ]
  },
  {
   "cell_type": "code",
   "execution_count": null,
   "metadata": {},
   "outputs": [],
   "source": [
    "ggplot(merged_uk_df,aes(x='merged_uk_df.index',y='percentage_difference', fill='percentage_difference')) \\\n",
    "    + geom_bar(stat='identity') \\\n",
    "    + labs(title='Percentage difference between MP birth month proportions and population data',x='Month',y='Percentage Difference') \\\n",
    "    + scale_fill_gradient(low='red',high='green', breaks=[0]) \\\n",
    "    + theme(figure_size=(10,5), legend_position='none')"
   ]
  },
  {
   "cell_type": "code",
   "execution_count": null,
   "metadata": {},
   "outputs": [],
   "source": [
    "# I want to plot the ages of MPs as a histogram with different colors for each bin\n",
    "uk_mps_df['age'].plot(kind='hist', bins=30, title='Age distribution of UK MPs', figsize=(15,10), edgecolor='white', color='blue')\n",
    "plt.show()\n",
    "\n"
   ]
  },
  {
   "cell_type": "code",
   "execution_count": null,
   "metadata": {},
   "outputs": [],
   "source": [
    "#I want to print the average age of a UK MP, including months\n",
    "print('The average age of a UK MP is {} years old'.format(round(uk_mps_df['age'].mean(),1)))"
   ]
  },
  {
   "attachments": {},
   "cell_type": "markdown",
   "metadata": {},
   "source": [
    "UNIVERSITIES ANALYSIS"
   ]
  },
  {
   "cell_type": "code",
   "execution_count": null,
   "metadata": {},
   "outputs": [],
   "source": [
    "universities_list = pd.DataFrame(uk_mps_df['university'])\n",
    "universities_list.dropna(inplace=True)\n",
    "universities_list.describe()\n",
    "# Currently LSE is most common, but the colleges in cambridge and oxford should not be counted as separate universities\n",
    "# I want to create a dataframe of only values from the universities_list that satisfy the regex search for 'Oxford$'\n",
    "oxford = universities_list[universities_list['university'].str.contains('Oxford$')]\n",
    "oxford\n",
    "# I want to create a dataframe of only values from the universities_list that satisfy the regex search for 'Cambridge|St. John'\n",
    "cambridge = universities_list[universities_list['university'].str.contains('Cambridge|St. John')]\n",
    "cambridge\n",
    "\n",
    "# I want to correct for other variants of names\n",
    "universities_list.loc[universities_list['university'].str.contains('London School of Economics'), 'university'] = 'London School of Economics'\n",
    "\n",
    "# I want to replace all values in the universities_list dataframe that are also present in the oxford dataframe with 'University of Oxford'\n",
    "universities_list.loc[universities_list['university'].isin(oxford['university']), 'university'] = 'University of Oxford'\n",
    "\n",
    "# I want to replace all values in the universities_list dataframe that are also present in the cambridge dataframe with 'University of Cambridge'\n",
    "universities_list.loc[universities_list['university'].isin(cambridge['university']), 'university'] = 'University of Cambridge'\n",
    "\n",
    "universities_ranked = pd.DataFrame(universities_list.value_counts()).reset_index()\n",
    "universities_ranked.rename(columns={0:'count', 'university':'university'},inplace=True)\n",
    "universities_ranked['percentage'] = (universities_ranked['count']/universities_ranked['count'].sum()*100).round(1)\n",
    "universities_ranked.rename(columns={'count':'number of MPs'},inplace=True)\n",
    "universities_ranked\n",
    "# Now Oxford and Cambridge are correctly represented\n",
    "\n",
    "\n"
   ]
  },
  {
   "cell_type": "code",
   "execution_count": null,
   "metadata": {},
   "outputs": [],
   "source": [
    "# Top 10 universities attended by MPs, plotted with multiple colours\n",
    "universities_ranked.head(10).plot(x=\"university\", y=\"number of MPs\", kind='bar', title='Top 10 universities attended by MPs', figsize=(15,10), color=['blue', 'cyan', 'red', 'gold', 'black', 'deeppink', 'violet', 'olive', 'tomato', 'grey'], xlabel='University', ylabel='Number of MPs', legend=False)\n",
    "plt.show()"
   ]
  },
  {
   "cell_type": "code",
   "execution_count": null,
   "metadata": {},
   "outputs": [],
   "source": [
    "universities_ranked.plot(x=\"university\", y=\"percentage\", kind='pie', title='Oxbridge Domination', figsize=(15,10), colors=['blue','cyan','red','orange','purple','yellow','pink','brown','grey','black','green','lightblue','lightgreen','lightgrey','lightpink'], labels=None, ylabel=None, xlabel=None, startangle=90, counterclock=True, legend=False)\n",
    "plt.show()"
   ]
  },
  {
   "cell_type": "code",
   "execution_count": null,
   "metadata": {},
   "outputs": [],
   "source": [
    "oxford_percentage = universities_ranked.loc[universities_ranked['university'] == 'University of Oxford', 'percentage'].values[0]\n",
    "print('Oxford percentage: ' + str(oxford_percentage) + '%')\n",
    "\n",
    "cambridge_percentage = universities_ranked.loc[universities_ranked['university'] == 'University of Cambridge', 'percentage'].values[0]\n",
    "print('Cambridge percentage: ' + str(cambridge_percentage) + '%')\n",
    "\n",
    "oxbridge_percentage = (universities_list.value_counts()[0:2].sum()/universities_list.value_counts().sum()*100).round(1)\n",
    "print('Oxbridge percentage: ' + str(oxbridge_percentage) + '%')\n",
    "\n",
    "lse_percentage = universities_ranked.loc[universities_ranked['university'] == 'London School of Economics', 'percentage'].values[0]\n",
    "print('LSE percentage: ' + str(lse_percentage) + '%')"
   ]
  }
 ],
 "metadata": {
  "kernelspec": {
   "display_name": "base",
   "language": "python",
   "name": "python3"
  },
  "language_info": {
   "codemirror_mode": {
    "name": "ipython",
    "version": 3
   },
   "file_extension": ".py",
   "mimetype": "text/x-python",
   "name": "python",
   "nbconvert_exporter": "python",
   "pygments_lexer": "ipython3",
   "version": "3.9.13"
  },
  "orig_nbformat": 4,
  "vscode": {
   "interpreter": {
    "hash": "19e5a69624924a4bf22ab208a83889c74666216ba4c1afcd8f43f8b2d3e956d2"
   }
  }
 },
 "nbformat": 4,
 "nbformat_minor": 2
}
