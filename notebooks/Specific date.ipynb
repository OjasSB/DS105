{
 "cells": [
  {
   "cell_type": "code",
   "execution_count": 1,
   "metadata": {},
   "outputs": [
    {
     "name": "stderr",
     "output_type": "stream",
     "text": [
      "C:\\Users\\Ojas\\AppData\\Local\\Temp\\ipykernel_5864\\2402189647.py:2: DtypeWarning: Columns (18,19,20,22) have mixed types. Specify dtype option on import or set low_memory=False.\n",
      "  df=pd.read_csv('../data/data_included.csv')\n"
     ]
    }
   ],
   "source": [
    "import pandas as pd\n",
    "df=pd.read_csv('../data/data_included.csv')\n",
    "df=df[df.birth_date.str.len()==10]\n",
    "df['birth_date']=pd.to_datetime(df['birth_date'], errors='coerce')\n",
    "df['month']=df['birth_date'].dt.month\n",
    "df['year']=df['birth_date'].dt.year\n",
    "df['day']=df['birth_date'].dt.day\n",
    "expected=len(df)/365"
   ]
  },
  {
   "cell_type": "code",
   "execution_count": 2,
   "metadata": {},
   "outputs": [
    {
     "data": {
      "text/html": [
       "<div>\n",
       "<style scoped>\n",
       "    .dataframe tbody tr th:only-of-type {\n",
       "        vertical-align: middle;\n",
       "    }\n",
       "\n",
       "    .dataframe tbody tr th {\n",
       "        vertical-align: top;\n",
       "    }\n",
       "\n",
       "    .dataframe thead th {\n",
       "        text-align: right;\n",
       "    }\n",
       "</style>\n",
       "<table border=\"1\" class=\"dataframe\">\n",
       "  <thead>\n",
       "    <tr style=\"text-align: right;\">\n",
       "      <th></th>\n",
       "      <th>num_MP</th>\n",
       "      <th>pc_diff</th>\n",
       "    </tr>\n",
       "  </thead>\n",
       "  <tbody>\n",
       "    <tr>\n",
       "      <th>1-1</th>\n",
       "      <td>264</td>\n",
       "      <td>141.491655</td>\n",
       "    </tr>\n",
       "    <tr>\n",
       "      <th>2-1</th>\n",
       "      <td>128</td>\n",
       "      <td>17.086863</td>\n",
       "    </tr>\n",
       "    <tr>\n",
       "      <th>3-1</th>\n",
       "      <td>117</td>\n",
       "      <td>7.024711</td>\n",
       "    </tr>\n",
       "    <tr>\n",
       "      <th>4-1</th>\n",
       "      <td>102</td>\n",
       "      <td>-6.696406</td>\n",
       "    </tr>\n",
       "    <tr>\n",
       "      <th>5-1</th>\n",
       "      <td>119</td>\n",
       "      <td>8.854193</td>\n",
       "    </tr>\n",
       "    <tr>\n",
       "      <th>...</th>\n",
       "      <td>...</td>\n",
       "      <td>...</td>\n",
       "    </tr>\n",
       "    <tr>\n",
       "      <th>27-12</th>\n",
       "      <td>92</td>\n",
       "      <td>-15.843817</td>\n",
       "    </tr>\n",
       "    <tr>\n",
       "      <th>28-12</th>\n",
       "      <td>105</td>\n",
       "      <td>-3.952183</td>\n",
       "    </tr>\n",
       "    <tr>\n",
       "      <th>29-12</th>\n",
       "      <td>100</td>\n",
       "      <td>-8.525888</td>\n",
       "    </tr>\n",
       "    <tr>\n",
       "      <th>30-12</th>\n",
       "      <td>86</td>\n",
       "      <td>-21.332264</td>\n",
       "    </tr>\n",
       "    <tr>\n",
       "      <th>31-12</th>\n",
       "      <td>99</td>\n",
       "      <td>-9.440630</td>\n",
       "    </tr>\n",
       "  </tbody>\n",
       "</table>\n",
       "<p>372 rows × 2 columns</p>\n",
       "</div>"
      ],
      "text/plain": [
       "       num_MP     pc_diff\n",
       "1-1       264  141.491655\n",
       "2-1       128   17.086863\n",
       "3-1       117    7.024711\n",
       "4-1       102   -6.696406\n",
       "5-1       119    8.854193\n",
       "...       ...         ...\n",
       "27-12      92  -15.843817\n",
       "28-12     105   -3.952183\n",
       "29-12     100   -8.525888\n",
       "30-12      86  -21.332264\n",
       "31-12      99   -9.440630\n",
       "\n",
       "[372 rows x 2 columns]"
      ]
     },
     "execution_count": 2,
     "metadata": {},
     "output_type": "execute_result"
    }
   ],
   "source": [
    "df_by_date=pd.concat([pd.DataFrame({'num_MP':df.query('month==@month and day==@day').shape[0],\\\n",
    "                         'pc_diff':(df.query('month==@month and day==@day').shape[0]-expected)/expected*100},\\\n",
    "                         index=[str(day)+'-'+str(month)])\\\n",
    "                         for month in range(1,13) for day in range(1,32)])\n",
    "df_by_date"
   ]
  },
  {
   "cell_type": "code",
   "execution_count": 3,
   "metadata": {},
   "outputs": [],
   "source": [
    "df_by_date.loc['29-2', 'pc_diff']=df_by_date.loc['29-2', 'num_MP']/(len(df)/1461)*100"
   ]
  },
  {
   "cell_type": "code",
   "execution_count": 4,
   "metadata": {},
   "outputs": [
    {
     "data": {
      "text/html": [
       "<div>\n",
       "<style scoped>\n",
       "    .dataframe tbody tr th:only-of-type {\n",
       "        vertical-align: middle;\n",
       "    }\n",
       "\n",
       "    .dataframe tbody tr th {\n",
       "        vertical-align: top;\n",
       "    }\n",
       "\n",
       "    .dataframe thead th {\n",
       "        text-align: right;\n",
       "    }\n",
       "</style>\n",
       "<table border=\"1\" class=\"dataframe\">\n",
       "  <thead>\n",
       "    <tr style=\"text-align: right;\">\n",
       "      <th></th>\n",
       "      <th>num_MP</th>\n",
       "      <th>pc_diff</th>\n",
       "    </tr>\n",
       "  </thead>\n",
       "  <tbody>\n",
       "    <tr>\n",
       "      <th>1-1</th>\n",
       "      <td>264</td>\n",
       "      <td>141.491655</td>\n",
       "    </tr>\n",
       "    <tr>\n",
       "      <th>29-2</th>\n",
       "      <td>23</td>\n",
       "      <td>84.213824</td>\n",
       "    </tr>\n",
       "    <tr>\n",
       "      <th>1-6</th>\n",
       "      <td>162</td>\n",
       "      <td>48.188061</td>\n",
       "    </tr>\n",
       "    <tr>\n",
       "      <th>1-5</th>\n",
       "      <td>158</td>\n",
       "      <td>44.529096</td>\n",
       "    </tr>\n",
       "    <tr>\n",
       "      <th>1-10</th>\n",
       "      <td>149</td>\n",
       "      <td>36.296426</td>\n",
       "    </tr>\n",
       "    <tr>\n",
       "      <th>1-9</th>\n",
       "      <td>145</td>\n",
       "      <td>32.637462</td>\n",
       "    </tr>\n",
       "    <tr>\n",
       "      <th>20-1</th>\n",
       "      <td>145</td>\n",
       "      <td>32.637462</td>\n",
       "    </tr>\n",
       "    <tr>\n",
       "      <th>6-5</th>\n",
       "      <td>144</td>\n",
       "      <td>31.722721</td>\n",
       "    </tr>\n",
       "    <tr>\n",
       "      <th>7-7</th>\n",
       "      <td>141</td>\n",
       "      <td>28.978497</td>\n",
       "    </tr>\n",
       "    <tr>\n",
       "      <th>1-4</th>\n",
       "      <td>141</td>\n",
       "      <td>28.978497</td>\n",
       "    </tr>\n",
       "  </tbody>\n",
       "</table>\n",
       "</div>"
      ],
      "text/plain": [
       "      num_MP     pc_diff\n",
       "1-1      264  141.491655\n",
       "29-2      23   84.213824\n",
       "1-6      162   48.188061\n",
       "1-5      158   44.529096\n",
       "1-10     149   36.296426\n",
       "1-9      145   32.637462\n",
       "20-1     145   32.637462\n",
       "6-5      144   31.722721\n",
       "7-7      141   28.978497\n",
       "1-4      141   28.978497"
      ]
     },
     "execution_count": 4,
     "metadata": {},
     "output_type": "execute_result"
    }
   ],
   "source": [
    "df_by_date.drop(df_by_date[df_by_date.num_MP==0].index, inplace=True)\n",
    "df_by_date.sort_values(by='pc_diff', ascending=False).head(10)"
   ]
  },
  {
   "cell_type": "code",
   "execution_count": 5,
   "metadata": {},
   "outputs": [
    {
     "data": {
      "text/html": [
       "<div>\n",
       "<style scoped>\n",
       "    .dataframe tbody tr th:only-of-type {\n",
       "        vertical-align: middle;\n",
       "    }\n",
       "\n",
       "    .dataframe tbody tr th {\n",
       "        vertical-align: top;\n",
       "    }\n",
       "\n",
       "    .dataframe thead th {\n",
       "        text-align: right;\n",
       "    }\n",
       "</style>\n",
       "<table border=\"1\" class=\"dataframe\">\n",
       "  <thead>\n",
       "    <tr style=\"text-align: right;\">\n",
       "      <th></th>\n",
       "      <th>num_MP</th>\n",
       "      <th>pc_diff</th>\n",
       "    </tr>\n",
       "  </thead>\n",
       "  <tbody>\n",
       "    <tr>\n",
       "      <th>25-10</th>\n",
       "      <td>72</td>\n",
       "      <td>-34.138640</td>\n",
       "    </tr>\n",
       "    <tr>\n",
       "      <th>13-12</th>\n",
       "      <td>75</td>\n",
       "      <td>-31.394416</td>\n",
       "    </tr>\n",
       "    <tr>\n",
       "      <th>7-12</th>\n",
       "      <td>77</td>\n",
       "      <td>-29.564934</td>\n",
       "    </tr>\n",
       "    <tr>\n",
       "      <th>16-11</th>\n",
       "      <td>78</td>\n",
       "      <td>-28.650193</td>\n",
       "    </tr>\n",
       "    <tr>\n",
       "      <th>11-10</th>\n",
       "      <td>79</td>\n",
       "      <td>-27.735452</td>\n",
       "    </tr>\n",
       "    <tr>\n",
       "      <th>27-10</th>\n",
       "      <td>79</td>\n",
       "      <td>-27.735452</td>\n",
       "    </tr>\n",
       "    <tr>\n",
       "      <th>27-11</th>\n",
       "      <td>80</td>\n",
       "      <td>-26.820711</td>\n",
       "    </tr>\n",
       "    <tr>\n",
       "      <th>2-10</th>\n",
       "      <td>82</td>\n",
       "      <td>-24.991229</td>\n",
       "    </tr>\n",
       "    <tr>\n",
       "      <th>12-11</th>\n",
       "      <td>85</td>\n",
       "      <td>-22.247005</td>\n",
       "    </tr>\n",
       "    <tr>\n",
       "      <th>14-11</th>\n",
       "      <td>85</td>\n",
       "      <td>-22.247005</td>\n",
       "    </tr>\n",
       "  </tbody>\n",
       "</table>\n",
       "</div>"
      ],
      "text/plain": [
       "       num_MP    pc_diff\n",
       "25-10      72 -34.138640\n",
       "13-12      75 -31.394416\n",
       "7-12       77 -29.564934\n",
       "16-11      78 -28.650193\n",
       "11-10      79 -27.735452\n",
       "27-10      79 -27.735452\n",
       "27-11      80 -26.820711\n",
       "2-10       82 -24.991229\n",
       "12-11      85 -22.247005\n",
       "14-11      85 -22.247005"
      ]
     },
     "execution_count": 5,
     "metadata": {},
     "output_type": "execute_result"
    }
   ],
   "source": [
    "df_by_date.sort_values(by='pc_diff', ascending=True).head(10)"
   ]
  },
  {
   "cell_type": "code",
   "execution_count": 6,
   "metadata": {},
   "outputs": [],
   "source": [
    "df_by_date.drop(['29-2'], inplace=True)"
   ]
  },
  {
   "cell_type": "code",
   "execution_count": 7,
   "metadata": {},
   "outputs": [],
   "source": [
    "df_by_date.index=pd.to_datetime(df_by_date.index, format='%d-%m')\n",
    "df_by_date['day_number']=df_by_date.index.dayofyear\n",
    "df_by_date.to_csv('../data/MPs_by_date.csv')"
   ]
  },
  {
   "cell_type": "code",
   "execution_count": 11,
   "metadata": {},
   "outputs": [
    {
     "data": {
      "text/plain": [
       "1958.0    1082\n",
       "1955.0    1076\n",
       "1960.0    1070\n",
       "1957.0    1059\n",
       "1962.0    1037\n",
       "1959.0    1026\n",
       "1964.0    1026\n",
       "1956.0    1021\n",
       "1954.0    1008\n",
       "1961.0     980\n",
       "Name: year, dtype: int64"
      ]
     },
     "execution_count": 11,
     "metadata": {},
     "output_type": "execute_result"
    }
   ],
   "source": [
    "df.year.value_counts().sort_values(ascending=False).head(10)"
   ]
  }
 ],
 "metadata": {
  "kernelspec": {
   "display_name": "base",
   "language": "python",
   "name": "python3"
  },
  "language_info": {
   "codemirror_mode": {
    "name": "ipython",
    "version": 3
   },
   "file_extension": ".py",
   "mimetype": "text/x-python",
   "name": "python",
   "nbconvert_exporter": "python",
   "pygments_lexer": "ipython3",
   "version": "3.9.12"
  },
  "orig_nbformat": 4
 },
 "nbformat": 4,
 "nbformat_minor": 2
}
