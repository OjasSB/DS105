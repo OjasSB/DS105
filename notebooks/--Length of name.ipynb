{
 "cells": [
  {
   "cell_type": "code",
   "execution_count": 3,
   "metadata": {},
   "outputs": [
    {
     "name": "stderr",
     "output_type": "stream",
     "text": [
      "C:\\Users\\Ojas\\AppData\\Local\\Temp\\ipykernel_16660\\4291026395.py:2: DtypeWarning: Columns (18,19,20,21) have mixed types. Specify dtype option on import or set low_memory=False.\n",
      "  data=pd.read_csv('../data/data.csv')\n"
     ]
    }
   ],
   "source": [
    "import pandas as pd\n",
    "data=pd.read_csv('../data/data.csv')"
   ]
  },
  {
   "cell_type": "code",
   "execution_count": 54,
   "metadata": {},
   "outputs": [
    {
     "data": {
      "text/plain": [
       "19        6.0\n",
       "28        6.0\n",
       "41        7.0\n",
       "43        3.0\n",
       "93        5.0\n",
       "         ... \n",
       "78373    10.0\n",
       "78374     5.0\n",
       "78377     5.0\n",
       "78379     4.0\n",
       "78380     7.0\n",
       "Name: given_name, Length: 40468, dtype: float64"
      ]
     },
     "execution_count": 54,
     "metadata": {},
     "output_type": "execute_result"
    }
   ],
   "source": [
    "name_lens=data['given_name'].str.len()\n",
    "name_lens.dropna(inplace=True)\n",
    "name_lens"
   ]
  },
  {
   "cell_type": "code",
   "execution_count": 55,
   "metadata": {},
   "outputs": [
    {
     "data": {
      "text/plain": [
       "count    40468.000000\n",
       "mean         6.367723\n",
       "std          2.676202\n",
       "min          2.000000\n",
       "25%          5.000000\n",
       "50%          6.000000\n",
       "75%          7.000000\n",
       "max         61.000000\n",
       "Name: given_name, dtype: float64"
      ]
     },
     "execution_count": 55,
     "metadata": {},
     "output_type": "execute_result"
    }
   ],
   "source": [
    "name_lens.describe()"
   ]
  },
  {
   "cell_type": "code",
   "execution_count": 61,
   "metadata": {},
   "outputs": [
    {
     "data": {
      "text/plain": [
       "71798      Aporu Christine Hellen\n",
       "71812       Evelyn Naome Mpagi N.\n",
       "71832     Peace Kanyesigye Mubiru\n",
       "71837       Thembo George William\n",
       "71842       Muzaale Martin Kisule\n",
       "71878    Kyewalabye Majegere S.J.\n",
       "71965      Kevinah Wanaha Wandera\n",
       "72002     Mabel Lillian Komugisha\n",
       "72014     Jalia Lukumu N. Abwooli\n",
       "72086       Maxwell Ebong Patrick\n",
       "72088     Masiko Labwoni Princess\n",
       "Name: given_name, dtype: object"
      ]
     },
     "execution_count": 61,
     "metadata": {},
     "output_type": "execute_result"
    }
   ],
   "source": [
    "data.loc[name_lens[name_lens>20].index, 'given_name'][120:]"
   ]
  },
  {
   "cell_type": "code",
   "execution_count": 51,
   "metadata": {},
   "outputs": [],
   "source": [
    "name_lens.drop(name_lens[name_lens>20].index,inplace=True)"
   ]
  },
  {
   "cell_type": "code",
   "execution_count": 52,
   "metadata": {},
   "outputs": [
    {
     "data": {
      "image/png": "[encoded data removed]",
      "text/plain": [
       "<Figure size 640x480 with 1 Axes>"
      ]
     },
     "metadata": {},
     "output_type": "display_data"
    },
    {
     "data": {
      "text/plain": [
       "<ggplot: (120167868407)>"
      ]
     },
     "execution_count": 52,
     "metadata": {},
     "output_type": "execute_result"
    }
   ],
   "source": [
    "from plotnine import *\n",
    "g1=ggplot(data=pd.DataFrame({'name_length':name_lens}), mapping=aes(x='name_length', y='stat(count)', fill='stat(count)'))\n",
    "\n",
    "g1\\\n",
    "    +geom_bar(stat='bin', binwidth=1)\\\n",
    "    +scale_fill_gradient(low='red', high='blue')\\\n",
    "    +labs(x='Name length', y='Count', title='Distribution of name lengths')"
   ]
  },
  {
   "attachments": {},
   "cell_type": "markdown",
   "metadata": {},
   "source": [
    "This is similar to the general population distribution of name lengths, with an average of 6. Our hypothesis that shorter names would be preferred in politicians is not supported by the data. "
   ]
  }
 ],
 "metadata": {
  "kernelspec": {
   "display_name": "base",
   "language": "python",
   "name": "python3"
  },
  "language_info": {
   "codemirror_mode": {
    "name": "ipython",
    "version": 3
   },
   "file_extension": ".py",
   "mimetype": "text/x-python",
   "name": "python",
   "nbconvert_exporter": "python",
   "pygments_lexer": "ipython3",
   "version": "3.9.12"
  },
  "orig_nbformat": 4
 },
 "nbformat": 4,
 "nbformat_minor": 2
}
