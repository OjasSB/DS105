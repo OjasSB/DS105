{
 "cells": [
  {
   "cell_type": "code",
   "execution_count": 9,
   "metadata": {},
   "outputs": [
    {
     "name": "stderr",
     "output_type": "stream",
     "text": [
      "C:\\Users\\Ojas\\AppData\\Local\\Temp\\ipykernel_18452\\4291026395.py:2: DtypeWarning: Columns (18,19,20,21) have mixed types. Specify dtype option on import or set low_memory=False.\n",
      "  data=pd.read_csv('../data/data.csv')\n"
     ]
    }
   ],
   "source": [
    "# Read data\n",
    "import pandas as pd\n",
    "data=pd.read_csv('../data/data.csv')"
   ]
  },
  {
   "cell_type": "code",
   "execution_count": 11,
   "metadata": {},
   "outputs": [
    {
     "data": {
      "text/plain": [
       "M    8949\n",
       "A    7078\n",
       "J    5088\n",
       "S    4605\n",
       "H    3630\n",
       "     ... \n",
       "英       1\n",
       "额       1\n",
       "甲       1\n",
       "宝       1\n",
       "Ҳ       1\n",
       "Name: name, Length: 532, dtype: int64"
      ]
     },
     "execution_count": 11,
     "metadata": {},
     "output_type": "execute_result"
    }
   ],
   "source": [
    "# First letter of full name\n",
    "first_letters=data['name'].str[0].value_counts()\n",
    "first_letters"
   ]
  },
  {
   "cell_type": "code",
   "execution_count": 4,
   "metadata": {},
   "outputs": [
    {
     "data": {
      "text/plain": [
       "given_name\n",
       "M             4704\n",
       "A             4246\n",
       "J             3864\n",
       "S             2354\n",
       "R             2100\n",
       "              ... \n",
       "s                1\n",
       "È                1\n",
       "h                1\n",
       "Х                1\n",
       "З                1\n",
       "Length: 75, dtype: int64"
      ]
     },
     "execution_count": 4,
     "metadata": {},
     "output_type": "execute_result"
    }
   ],
   "source": [
    "# First letter of given name\n",
    "data[['given_name']].dropna().applymap(lambda x: x[0]).value_counts()"
   ]
  },
  {
   "cell_type": "code",
   "execution_count": 8,
   "metadata": {},
   "outputs": [
    {
     "data": {
      "text/plain": [
       "B    2448\n",
       "S    2400\n",
       "M    2352\n",
       "K    1684\n",
       "L    1624\n",
       "     ... \n",
       "       1\n",
       "Ņ       1\n",
       "Ķ       1\n",
       "Ț       1\n",
       "ª       1\n",
       "Name: family_name, Length: 85, dtype: int64"
      ]
     },
     "execution_count": 8,
     "metadata": {},
     "output_type": "execute_result"
    }
   ],
   "source": [
    "# First letter of family name\n",
    "data['family_name'].dropna().apply(lambda x: x[0]).value_counts()"
   ]
  },
  {
   "attachments": {},
   "cell_type": "markdown",
   "metadata": {},
   "source": [
    "---\n",
    "\n",
    "Some people claimed that among CEOs of top companies, there were more people named John than women. Is this the case for MPs too?\n",
    "\n",
    "According to NYT, this is the case for senators and representatives in both parties in the US.\n",
    "\n",
    "https://www.nytimes.com/interactive/2018/04/24/upshot/women-and-men-named-john.html"
   ]
  },
  {
   "cell_type": "code",
   "execution_count": 7,
   "metadata": {},
   "outputs": [
    {
     "data": {
      "text/plain": [
       "male      47200\n",
       "female    13469\n",
       "Name: gender, dtype: int64"
      ]
     },
     "execution_count": 7,
     "metadata": {},
     "output_type": "execute_result"
    }
   ],
   "source": [
    "data['gender'].value_counts()"
   ]
  },
  {
   "cell_type": "code",
   "execution_count": 10,
   "metadata": {},
   "outputs": [
    {
     "data": {
      "text/plain": [
       "False    77809\n",
       "True       573\n",
       "Name: name, dtype: int64"
      ]
     },
     "execution_count": 10,
     "metadata": {},
     "output_type": "execute_result"
    }
   ],
   "source": [
    "data['name'].str.contains('John').value_counts()"
   ]
  },
  {
   "attachments": {},
   "cell_type": "markdown",
   "metadata": {},
   "source": [
    "Thus it is wrong to claim that there are more Johns than women in the world. We could do this for specific countries.\n",
    "\n",
    "---"
   ]
  },
  {
   "attachments": {},
   "cell_type": "markdown",
   "metadata": {},
   "source": [
    "## Most common names of MPs"
   ]
  },
  {
   "cell_type": "code",
   "execution_count": 17,
   "metadata": {},
   "outputs": [
    {
     "data": {
      "text/plain": [
       "Mehmet     582\n",
       "José       399\n",
       "John       393\n",
       "Ali        353\n",
       "Dr.        340\n",
       "David      331\n",
       "Peter      328\n",
       "Ahmet      327\n",
       "Michael    282\n",
       "Mustafa    278\n",
       "Name: name, dtype: int64"
      ]
     },
     "execution_count": 17,
     "metadata": {},
     "output_type": "execute_result"
    }
   ],
   "source": [
    "most_common_names=data['name'].str.split().str[0].value_counts()\n",
    "most_common_names.head(10)"
   ]
  },
  {
   "attachments": {},
   "cell_type": "markdown",
   "metadata": {},
   "source": [
    "Very shocking, Mehmet is #202 most common in world. Jose is #4, John is #12, Ali is #11. Maybe because of many records in Turkey??\n",
    "https://forebears.io/earth/forenames"
   ]
  }
 ],
 "metadata": {
  "kernelspec": {
   "display_name": "base",
   "language": "python",
   "name": "python3"
  },
  "language_info": {
   "codemirror_mode": {
    "name": "ipython",
    "version": 3
   },
   "file_extension": ".py",
   "mimetype": "text/x-python",
   "name": "python",
   "nbconvert_exporter": "python",
   "pygments_lexer": "ipython3",
   "version": "3.9.12"
  },
  "orig_nbformat": 4
 },
 "nbformat": 4,
 "nbformat_minor": 2
}
