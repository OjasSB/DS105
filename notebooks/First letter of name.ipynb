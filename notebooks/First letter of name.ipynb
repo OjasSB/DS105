{
 "cells": [
  {
   "cell_type": "code",
   "execution_count": 6,
   "metadata": {},
   "outputs": [
    {
     "name": "stderr",
     "output_type": "stream",
     "text": [
      "C:\\Users\\Ojas\\AppData\\Local\\Temp\\ipykernel_17232\\3959656702.py:2: DtypeWarning: Columns (18,19,20,21) have mixed types. Specify dtype option on import or set low_memory=False.\n",
      "  data=pd.read_csv('../data/data.csv')\n"
     ]
    },
    {
     "data": {
      "text/html": [
       "<div>\n",
       "<style scoped>\n",
       "    .dataframe tbody tr th:only-of-type {\n",
       "        vertical-align: middle;\n",
       "    }\n",
       "\n",
       "    .dataframe tbody tr th {\n",
       "        vertical-align: top;\n",
       "    }\n",
       "\n",
       "    .dataframe thead th {\n",
       "        text-align: right;\n",
       "    }\n",
       "</style>\n",
       "<table border=\"1\" class=\"dataframe\">\n",
       "  <thead>\n",
       "    <tr style=\"text-align: right;\">\n",
       "      <th></th>\n",
       "      <th>Unnamed: 0</th>\n",
       "      <th>gender</th>\n",
       "      <th>id</th>\n",
       "      <th>identifiers</th>\n",
       "      <th>image</th>\n",
       "      <th>images</th>\n",
       "      <th>name</th>\n",
       "      <th>birth_date</th>\n",
       "      <th>links</th>\n",
       "      <th>other_names</th>\n",
       "      <th>...</th>\n",
       "      <th>contact_details</th>\n",
       "      <th>family_name</th>\n",
       "      <th>death_date</th>\n",
       "      <th>email</th>\n",
       "      <th>sort_name</th>\n",
       "      <th>honorific_prefix</th>\n",
       "      <th>honorific_suffix</th>\n",
       "      <th>national_identity</th>\n",
       "      <th>summary</th>\n",
       "      <th>patronymic_name</th>\n",
       "    </tr>\n",
       "  </thead>\n",
       "  <tbody>\n",
       "    <tr>\n",
       "      <th>78377</th>\n",
       "      <td>55</td>\n",
       "      <td>male</td>\n",
       "      <td>ed4838aa-19f8-493c-b8c4-58780b5b0d84</td>\n",
       "      <td>[{'identifier': '112', 'scheme': 'everypolitic...</td>\n",
       "      <td>http://www.lagtinget.ax/files/sjolund_folke.jpg</td>\n",
       "      <td>[{'url': 'http://www.lagtinget.ax/files/sjolun...</td>\n",
       "      <td>Sjölund Folke</td>\n",
       "      <td>1943-12-16</td>\n",
       "      <td>[{'note': 'Wikipedia (fi)', 'url': 'https://fi...</td>\n",
       "      <td>[{'lang': 'en', 'name': 'Folke Sjölund', 'note...</td>\n",
       "      <td>...</td>\n",
       "      <td>NaN</td>\n",
       "      <td>Sjölund</td>\n",
       "      <td>2013-12-13</td>\n",
       "      <td>NaN</td>\n",
       "      <td>NaN</td>\n",
       "      <td>NaN</td>\n",
       "      <td>NaN</td>\n",
       "      <td>NaN</td>\n",
       "      <td>NaN</td>\n",
       "      <td>NaN</td>\n",
       "    </tr>\n",
       "    <tr>\n",
       "      <th>78378</th>\n",
       "      <td>56</td>\n",
       "      <td>male</td>\n",
       "      <td>f105a4a0-5fef-4be7-ab73-9376923491a7</td>\n",
       "      <td>NaN</td>\n",
       "      <td>https://www.lagtinget.ax/sites/www.lagtinget.a...</td>\n",
       "      <td>[{'url': 'https://www.lagtinget.ax/sites/www.l...</td>\n",
       "      <td>John Holmberg</td>\n",
       "      <td>1967</td>\n",
       "      <td>NaN</td>\n",
       "      <td>NaN</td>\n",
       "      <td>...</td>\n",
       "      <td>[{'type': 'email', 'value': 'john.holmberg@lag...</td>\n",
       "      <td>NaN</td>\n",
       "      <td>NaN</td>\n",
       "      <td>john.holmberg@lagtinget.ax</td>\n",
       "      <td>NaN</td>\n",
       "      <td>NaN</td>\n",
       "      <td>NaN</td>\n",
       "      <td>NaN</td>\n",
       "      <td>NaN</td>\n",
       "      <td>NaN</td>\n",
       "    </tr>\n",
       "    <tr>\n",
       "      <th>78379</th>\n",
       "      <td>57</td>\n",
       "      <td>male</td>\n",
       "      <td>f4f995ae-126c-468f-8f26-deec1e26adc2</td>\n",
       "      <td>[{'identifier': '372', 'scheme': 'everypolitic...</td>\n",
       "      <td>http://www.lagtinget.ax/files/asumaa_tony.jpg</td>\n",
       "      <td>[{'url': 'http://www.lagtinget.ax/files/asumaa...</td>\n",
       "      <td>Asumaa Tony</td>\n",
       "      <td>1968-09-15</td>\n",
       "      <td>[{'note': 'Wikipedia (en)', 'url': 'https://en...</td>\n",
       "      <td>[{'lang': 'en', 'name': 'Tony Asumaa', 'note':...</td>\n",
       "      <td>...</td>\n",
       "      <td>NaN</td>\n",
       "      <td>Asumaa</td>\n",
       "      <td>NaN</td>\n",
       "      <td>NaN</td>\n",
       "      <td>NaN</td>\n",
       "      <td>NaN</td>\n",
       "      <td>NaN</td>\n",
       "      <td>NaN</td>\n",
       "      <td>NaN</td>\n",
       "      <td>NaN</td>\n",
       "    </tr>\n",
       "    <tr>\n",
       "      <th>78380</th>\n",
       "      <td>58</td>\n",
       "      <td>male</td>\n",
       "      <td>fe40bb08-5025-473d-af52-bf1e30ecc5e6</td>\n",
       "      <td>[{'identifier': '88', 'scheme': 'everypolitici...</td>\n",
       "      <td>http://www.lagtinget.ax/files/sundblom_torsten...</td>\n",
       "      <td>[{'url': 'http://www.lagtinget.ax/files/sundbl...</td>\n",
       "      <td>Sundblom Torsten</td>\n",
       "      <td>1951-09-15</td>\n",
       "      <td>[{'note': 'Wikipedia (fi)', 'url': 'https://fi...</td>\n",
       "      <td>[{'lang': 'en', 'name': 'Torsten Sundblom', 'n...</td>\n",
       "      <td>...</td>\n",
       "      <td>[{'type': 'email', 'value': 'torsten.sundblom@...</td>\n",
       "      <td>NaN</td>\n",
       "      <td>NaN</td>\n",
       "      <td>torsten.sundblom@lagtinget.ax</td>\n",
       "      <td>NaN</td>\n",
       "      <td>NaN</td>\n",
       "      <td>NaN</td>\n",
       "      <td>NaN</td>\n",
       "      <td>NaN</td>\n",
       "      <td>NaN</td>\n",
       "    </tr>\n",
       "    <tr>\n",
       "      <th>78381</th>\n",
       "      <td>59</td>\n",
       "      <td>male</td>\n",
       "      <td>ff7b67a7-d3bf-4179-801d-7005059524e6</td>\n",
       "      <td>NaN</td>\n",
       "      <td>https://www.lagtinget.ax/sites/www.lagtinget.a...</td>\n",
       "      <td>[{'url': 'https://www.lagtinget.ax/sites/www.l...</td>\n",
       "      <td>Fredrik Fredlund</td>\n",
       "      <td>1978</td>\n",
       "      <td>NaN</td>\n",
       "      <td>NaN</td>\n",
       "      <td>...</td>\n",
       "      <td>[{'type': 'email', 'value': 'fredrik.fredlund@...</td>\n",
       "      <td>NaN</td>\n",
       "      <td>NaN</td>\n",
       "      <td>fredrik.fredlund@lagtinget.ax</td>\n",
       "      <td>NaN</td>\n",
       "      <td>NaN</td>\n",
       "      <td>NaN</td>\n",
       "      <td>NaN</td>\n",
       "      <td>NaN</td>\n",
       "      <td>NaN</td>\n",
       "    </tr>\n",
       "  </tbody>\n",
       "</table>\n",
       "<p>5 rows × 22 columns</p>\n",
       "</div>"
      ],
      "text/plain": [
       "       Unnamed: 0 gender                                    id  \\\n",
       "78377          55   male  ed4838aa-19f8-493c-b8c4-58780b5b0d84   \n",
       "78378          56   male  f105a4a0-5fef-4be7-ab73-9376923491a7   \n",
       "78379          57   male  f4f995ae-126c-468f-8f26-deec1e26adc2   \n",
       "78380          58   male  fe40bb08-5025-473d-af52-bf1e30ecc5e6   \n",
       "78381          59   male  ff7b67a7-d3bf-4179-801d-7005059524e6   \n",
       "\n",
       "                                             identifiers  \\\n",
       "78377  [{'identifier': '112', 'scheme': 'everypolitic...   \n",
       "78378                                                NaN   \n",
       "78379  [{'identifier': '372', 'scheme': 'everypolitic...   \n",
       "78380  [{'identifier': '88', 'scheme': 'everypolitici...   \n",
       "78381                                                NaN   \n",
       "\n",
       "                                                   image  \\\n",
       "78377    http://www.lagtinget.ax/files/sjolund_folke.jpg   \n",
       "78378  https://www.lagtinget.ax/sites/www.lagtinget.a...   \n",
       "78379      http://www.lagtinget.ax/files/asumaa_tony.jpg   \n",
       "78380  http://www.lagtinget.ax/files/sundblom_torsten...   \n",
       "78381  https://www.lagtinget.ax/sites/www.lagtinget.a...   \n",
       "\n",
       "                                                  images              name  \\\n",
       "78377  [{'url': 'http://www.lagtinget.ax/files/sjolun...     Sjölund Folke   \n",
       "78378  [{'url': 'https://www.lagtinget.ax/sites/www.l...     John Holmberg   \n",
       "78379  [{'url': 'http://www.lagtinget.ax/files/asumaa...       Asumaa Tony   \n",
       "78380  [{'url': 'http://www.lagtinget.ax/files/sundbl...  Sundblom Torsten   \n",
       "78381  [{'url': 'https://www.lagtinget.ax/sites/www.l...  Fredrik Fredlund   \n",
       "\n",
       "       birth_date                                              links  \\\n",
       "78377  1943-12-16  [{'note': 'Wikipedia (fi)', 'url': 'https://fi...   \n",
       "78378        1967                                                NaN   \n",
       "78379  1968-09-15  [{'note': 'Wikipedia (en)', 'url': 'https://en...   \n",
       "78380  1951-09-15  [{'note': 'Wikipedia (fi)', 'url': 'https://fi...   \n",
       "78381        1978                                                NaN   \n",
       "\n",
       "                                             other_names  ...  \\\n",
       "78377  [{'lang': 'en', 'name': 'Folke Sjölund', 'note...  ...   \n",
       "78378                                                NaN  ...   \n",
       "78379  [{'lang': 'en', 'name': 'Tony Asumaa', 'note':...  ...   \n",
       "78380  [{'lang': 'en', 'name': 'Torsten Sundblom', 'n...  ...   \n",
       "78381                                                NaN  ...   \n",
       "\n",
       "                                         contact_details family_name  \\\n",
       "78377                                                NaN     Sjölund   \n",
       "78378  [{'type': 'email', 'value': 'john.holmberg@lag...         NaN   \n",
       "78379                                                NaN      Asumaa   \n",
       "78380  [{'type': 'email', 'value': 'torsten.sundblom@...         NaN   \n",
       "78381  [{'type': 'email', 'value': 'fredrik.fredlund@...         NaN   \n",
       "\n",
       "       death_date                          email sort_name honorific_prefix  \\\n",
       "78377  2013-12-13                            NaN       NaN              NaN   \n",
       "78378         NaN     john.holmberg@lagtinget.ax       NaN              NaN   \n",
       "78379         NaN                            NaN       NaN              NaN   \n",
       "78380         NaN  torsten.sundblom@lagtinget.ax       NaN              NaN   \n",
       "78381         NaN  fredrik.fredlund@lagtinget.ax       NaN              NaN   \n",
       "\n",
       "      honorific_suffix national_identity summary patronymic_name  \n",
       "78377              NaN               NaN     NaN             NaN  \n",
       "78378              NaN               NaN     NaN             NaN  \n",
       "78379              NaN               NaN     NaN             NaN  \n",
       "78380              NaN               NaN     NaN             NaN  \n",
       "78381              NaN               NaN     NaN             NaN  \n",
       "\n",
       "[5 rows x 22 columns]"
      ]
     },
     "execution_count": 6,
     "metadata": {},
     "output_type": "execute_result"
    }
   ],
   "source": [
    "import pandas as pd\n",
    "data=pd.read_csv('../data/data.csv')\n",
    "data.tail()"
   ]
  },
  {
   "cell_type": "code",
   "execution_count": 11,
   "metadata": {},
   "outputs": [
    {
     "data": {
      "text/plain": [
       "M    8949\n",
       "A    7078\n",
       "J    5088\n",
       "S    4605\n",
       "H    3630\n",
       "     ... \n",
       "英       1\n",
       "额       1\n",
       "甲       1\n",
       "宝       1\n",
       "Ҳ       1\n",
       "Name: name, Length: 532, dtype: int64"
      ]
     },
     "execution_count": 11,
     "metadata": {},
     "output_type": "execute_result"
    }
   ],
   "source": [
    "firts_letters=data['name'].str[0].value_counts()\n",
    "firts_letters"
   ]
  },
  {
   "cell_type": "code",
   "execution_count": 7,
   "metadata": {},
   "outputs": [
    {
     "data": {
      "text/plain": [
       "male      47200\n",
       "female    13469\n",
       "Name: gender, dtype: int64"
      ]
     },
     "execution_count": 7,
     "metadata": {},
     "output_type": "execute_result"
    }
   ],
   "source": [
    "data['gender'].value_counts()"
   ]
  },
  {
   "cell_type": "code",
   "execution_count": 10,
   "metadata": {},
   "outputs": [
    {
     "data": {
      "text/plain": [
       "False    77809\n",
       "True       573\n",
       "Name: name, dtype: int64"
      ]
     },
     "execution_count": 10,
     "metadata": {},
     "output_type": "execute_result"
    }
   ],
   "source": [
    "data['name'].str.contains('John').value_counts()"
   ]
  },
  {
   "attachments": {},
   "cell_type": "markdown",
   "metadata": {},
   "source": [
    "Thus it is wrong to claim that there are more Johns than women"
   ]
  },
  {
   "cell_type": "code",
   "execution_count": 17,
   "metadata": {},
   "outputs": [
    {
     "data": {
      "text/plain": [
       "Mehmet     582\n",
       "José       399\n",
       "John       393\n",
       "Ali        353\n",
       "Dr.        340\n",
       "David      331\n",
       "Peter      328\n",
       "Ahmet      327\n",
       "Michael    282\n",
       "Mustafa    278\n",
       "Name: name, dtype: int64"
      ]
     },
     "execution_count": 17,
     "metadata": {},
     "output_type": "execute_result"
    }
   ],
   "source": [
    "most_common_names=data['name'].str.split().str[0].value_counts()\n",
    "most_common_names.head(10)"
   ]
  },
  {
   "attachments": {},
   "cell_type": "markdown",
   "metadata": {},
   "source": [
    "Very shocking, Mehmet is #202 most common in world. Jose is #4, John is #12, Ali is #11. Maybe because of many records in Turkey??\n",
    "https://forebears.io/earth/forenames"
   ]
  }
 ],
 "metadata": {
  "kernelspec": {
   "display_name": "base",
   "language": "python",
   "name": "python3"
  },
  "language_info": {
   "codemirror_mode": {
    "name": "ipython",
    "version": 3
   },
   "file_extension": ".py",
   "mimetype": "text/x-python",
   "name": "python",
   "nbconvert_exporter": "python",
   "pygments_lexer": "ipython3",
   "version": "3.9.12"
  },
  "orig_nbformat": 4
 },
 "nbformat": 4,
 "nbformat_minor": 2
}
