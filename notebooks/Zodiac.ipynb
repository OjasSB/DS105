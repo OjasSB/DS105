{
 "cells": [
  {
   "cell_type": "code",
   "execution_count": 1,
   "metadata": {},
   "outputs": [
    {
     "name": "stderr",
     "output_type": "stream",
     "text": [
      "C:\\Users\\Ojas\\AppData\\Local\\Temp\\ipykernel_23168\\2041111253.py:2: DtypeWarning: Columns (18,19,20,22) have mixed types. Specify dtype option on import or set low_memory=False.\n",
      "  data=pd.read_csv('../data/data_included.csv')\n"
     ]
    }
   ],
   "source": [
    "import pandas as pd\n",
    "data=pd.read_csv('../data/data_included.csv')"
   ]
  },
  {
   "cell_type": "code",
   "execution_count": 2,
   "metadata": {},
   "outputs": [],
   "source": [
    "data=data[data.birth_date.str.len()==10]\n",
    "data['birth_date']=pd.to_datetime(data['birth_date'], errors='coerce')\n",
    "data['month']=data['birth_date'].dt.month.astype(str).astype(float)\n",
    "data['day']=data['birth_date'].dt.day.astype(str).astype(float)"
   ]
  },
  {
   "cell_type": "code",
   "execution_count": 3,
   "metadata": {},
   "outputs": [],
   "source": [
    "#Taurus—April 20-May 20\n",
    "taurus=data[((data['month']==4) & (data['day']>19)) | ((data['month']==5) & (data['day']<21))]\n",
    "#Gemini—May 21-June 20\n",
    "gemini=data[((data['month']==5) & (data['day']>20)) | ((data['month']==6) & (data['day']<21))]\n",
    "#Cancer—June 21-July 22\n",
    "cancer=data[((data['month']==6) & (data['day']>20)) | ((data['month']==7) & (data['day']<23))]\n",
    "#Leo—July 23-August 22\n",
    "leo=data[((data['month']==7) & (data['day']>22)) | ((data['month']==8) & (data['day']<23))]\n",
    "#Virgo—August 23-September 22\n",
    "virgo=data[((data['month']==8) & (data['day']>22)) | ((data['month']==9) & (data['day']<23))]\n",
    "#Libra—September 23-October 22\n",
    "libra=data[((data['month']==9) & (data['day']>22)) | ((data['month']==10) & (data['day']<23))]\n",
    "#Scorpio—October 23-November 21\n",
    "scorpio=data[((data['month']==10) & (data['day']>22)) | ((data['month']==11) & (data['day']<22))]\n",
    "#Sagittarius—November 22-December 21\n",
    "sagittarius=data[((data['month']==11) & (data['day']>21)) | ((data['month']==12) & (data['day']<22))]\n",
    "#Capricorn—December 22-January 19\n",
    "capricorn=data[((data['month']==12) & (data['day']>21)) | ((data['month']==1) & (data['day']<20))]\n",
    "#Aquarius—January 20-February 18\n",
    "aquarius=data[((data['month']==1) & (data['day']>19)) | ((data['month']==2) & (data['day']<19))]\n",
    "#Pisces—February 19-March 20\n",
    "pisces=data[((data['month']==2) & (data['day']>18)) | ((data['month']==3) & (data['day']<21))]\n",
    "#Aries—March 21-April 19\n",
    "aries=data[((data['month']==3) & (data['day']>20)) | ((data['month']==4) & (data['day']<20))]\n"
   ]
  },
  {
   "cell_type": "code",
   "execution_count": 4,
   "metadata": {},
   "outputs": [
    {
     "data": {
      "text/html": [
       "<div>\n",
       "<style scoped>\n",
       "    .dataframe tbody tr th:only-of-type {\n",
       "        vertical-align: middle;\n",
       "    }\n",
       "\n",
       "    .dataframe tbody tr th {\n",
       "        vertical-align: top;\n",
       "    }\n",
       "\n",
       "    .dataframe thead th {\n",
       "        text-align: right;\n",
       "    }\n",
       "</style>\n",
       "<table border=\"1\" class=\"dataframe\">\n",
       "  <thead>\n",
       "    <tr style=\"text-align: right;\">\n",
       "      <th></th>\n",
       "      <th>count</th>\n",
       "    </tr>\n",
       "  </thead>\n",
       "  <tbody>\n",
       "    <tr>\n",
       "      <th>Aries</th>\n",
       "      <td>3293</td>\n",
       "    </tr>\n",
       "    <tr>\n",
       "      <th>Taurus</th>\n",
       "      <td>3527</td>\n",
       "    </tr>\n",
       "    <tr>\n",
       "      <th>Gemini</th>\n",
       "      <td>3415</td>\n",
       "    </tr>\n",
       "    <tr>\n",
       "      <th>Cancer</th>\n",
       "      <td>3557</td>\n",
       "    </tr>\n",
       "    <tr>\n",
       "      <th>Leo</th>\n",
       "      <td>3401</td>\n",
       "    </tr>\n",
       "    <tr>\n",
       "      <th>Virgo</th>\n",
       "      <td>3368</td>\n",
       "    </tr>\n",
       "    <tr>\n",
       "      <th>Libra</th>\n",
       "      <td>3270</td>\n",
       "    </tr>\n",
       "    <tr>\n",
       "      <th>Scorpio</th>\n",
       "      <td>3008</td>\n",
       "    </tr>\n",
       "    <tr>\n",
       "      <th>Sagittarius</th>\n",
       "      <td>3164</td>\n",
       "    </tr>\n",
       "    <tr>\n",
       "      <th>Capricorn</th>\n",
       "      <td>3226</td>\n",
       "    </tr>\n",
       "    <tr>\n",
       "      <th>Aquarius</th>\n",
       "      <td>3315</td>\n",
       "    </tr>\n",
       "    <tr>\n",
       "      <th>Pisces</th>\n",
       "      <td>3356</td>\n",
       "    </tr>\n",
       "  </tbody>\n",
       "</table>\n",
       "</div>"
      ],
      "text/plain": [
       "             count\n",
       "Aries         3293\n",
       "Taurus        3527\n",
       "Gemini        3415\n",
       "Cancer        3557\n",
       "Leo           3401\n",
       "Virgo         3368\n",
       "Libra         3270\n",
       "Scorpio       3008\n",
       "Sagittarius   3164\n",
       "Capricorn     3226\n",
       "Aquarius      3315\n",
       "Pisces        3356"
      ]
     },
     "execution_count": 4,
     "metadata": {},
     "output_type": "execute_result"
    }
   ],
   "source": [
    "df=pd.DataFrame([aries.shape[0], taurus.shape[0], gemini.shape[0], cancer.shape[0], leo.shape[0], virgo.shape[0], libra.shape[0], scorpio.shape[0], sagittarius.shape[0], capricorn.shape[0], aquarius.shape[0], pisces.shape[0]] , columns=['count'], index=[ 'Aries','Taurus', 'Gemini', 'Cancer', 'Leo', 'Virgo', 'Libra', 'Scorpio', 'Sagittarius', 'Capricorn', 'Aquarius', 'Pisces'])\n",
    "df.index=pd.CategoricalIndex(df.index, categories=['Aries','Taurus', 'Gemini', 'Cancer', 'Leo', 'Virgo', 'Libra', 'Scorpio', 'Sagittarius', 'Capricorn', 'Aquarius', 'Pisces'], ordered=True)\n",
    "df"
   ]
  },
  {
   "cell_type": "code",
   "execution_count": 5,
   "metadata": {},
   "outputs": [
    {
     "data": {
      "text/html": [
       "<div>\n",
       "<style scoped>\n",
       "    .dataframe tbody tr th:only-of-type {\n",
       "        vertical-align: middle;\n",
       "    }\n",
       "\n",
       "    .dataframe tbody tr th {\n",
       "        vertical-align: top;\n",
       "    }\n",
       "\n",
       "    .dataframe thead th {\n",
       "        text-align: right;\n",
       "    }\n",
       "</style>\n",
       "<table border=\"1\" class=\"dataframe\">\n",
       "  <thead>\n",
       "    <tr style=\"text-align: right;\">\n",
       "      <th></th>\n",
       "      <th>count</th>\n",
       "      <th>percent</th>\n",
       "    </tr>\n",
       "  </thead>\n",
       "  <tbody>\n",
       "    <tr>\n",
       "      <th>Aries</th>\n",
       "      <td>3293</td>\n",
       "      <td>8.25</td>\n",
       "    </tr>\n",
       "    <tr>\n",
       "      <th>Taurus</th>\n",
       "      <td>3527</td>\n",
       "      <td>8.84</td>\n",
       "    </tr>\n",
       "    <tr>\n",
       "      <th>Gemini</th>\n",
       "      <td>3415</td>\n",
       "      <td>8.56</td>\n",
       "    </tr>\n",
       "    <tr>\n",
       "      <th>Cancer</th>\n",
       "      <td>3557</td>\n",
       "      <td>8.91</td>\n",
       "    </tr>\n",
       "    <tr>\n",
       "      <th>Leo</th>\n",
       "      <td>3401</td>\n",
       "      <td>8.52</td>\n",
       "    </tr>\n",
       "    <tr>\n",
       "      <th>Virgo</th>\n",
       "      <td>3368</td>\n",
       "      <td>8.44</td>\n",
       "    </tr>\n",
       "    <tr>\n",
       "      <th>Libra</th>\n",
       "      <td>3270</td>\n",
       "      <td>8.20</td>\n",
       "    </tr>\n",
       "    <tr>\n",
       "      <th>Scorpio</th>\n",
       "      <td>3008</td>\n",
       "      <td>7.54</td>\n",
       "    </tr>\n",
       "    <tr>\n",
       "      <th>Sagittarius</th>\n",
       "      <td>3164</td>\n",
       "      <td>7.93</td>\n",
       "    </tr>\n",
       "    <tr>\n",
       "      <th>Capricorn</th>\n",
       "      <td>3226</td>\n",
       "      <td>8.09</td>\n",
       "    </tr>\n",
       "    <tr>\n",
       "      <th>Aquarius</th>\n",
       "      <td>3315</td>\n",
       "      <td>8.31</td>\n",
       "    </tr>\n",
       "    <tr>\n",
       "      <th>Pisces</th>\n",
       "      <td>3356</td>\n",
       "      <td>8.41</td>\n",
       "    </tr>\n",
       "  </tbody>\n",
       "</table>\n",
       "</div>"
      ],
      "text/plain": [
       "             count  percent\n",
       "Aries         3293     8.25\n",
       "Taurus        3527     8.84\n",
       "Gemini        3415     8.56\n",
       "Cancer        3557     8.91\n",
       "Leo           3401     8.52\n",
       "Virgo         3368     8.44\n",
       "Libra         3270     8.20\n",
       "Scorpio       3008     7.54\n",
       "Sagittarius   3164     7.93\n",
       "Capricorn     3226     8.09\n",
       "Aquarius      3315     8.31\n",
       "Pisces        3356     8.41"
      ]
     },
     "execution_count": 5,
     "metadata": {},
     "output_type": "execute_result"
    }
   ],
   "source": [
    "df['percent']=df['count']/df['count'].sum()*100\n",
    "df['percent']=df['percent'].round(2)\n",
    "df"
   ]
  },
  {
   "cell_type": "code",
   "execution_count": 6,
   "metadata": {},
   "outputs": [
    {
     "data": {
      "image/png": "[encoded data removed]",
      "text/plain": [
       "<Figure size 1100x500 with 1 Axes>"
      ]
     },
     "metadata": {},
     "output_type": "display_data"
    },
    {
     "data": {
      "text/plain": [
       "<ggplot: (195874954933)>"
      ]
     },
     "execution_count": 6,
     "metadata": {},
     "output_type": "execute_result"
    }
   ],
   "source": [
    "from plotnine import *\n",
    "ggplot(df, aes(x=df.index, y='percent')) \\\n",
    " + geom_bar(stat='identity', fill='#CF88CF') \\\n",
    " + labs(x='Zodiac', y='Count') \\\n",
    " + theme(figure_size=(11,5))\\\n",
    " + labs(title='Zodiac Distribution of MPs')\\\n",
    " + geom_hline(yintercept=8.33, linetype='dashed', color='blue')"
   ]
  },
  {
   "cell_type": "code",
   "execution_count": 7,
   "metadata": {},
   "outputs": [],
   "source": [
    "# Scorpios tend to be loyal and honest, which is why they do not make successful politicians.\n",
    "# Saggitarians also don't do well because they are optimistic and philosophical.\n",
    "# Cancerians are charismatic, attractive, and manipulative, which is why they do well in politics.\n",
    "# Taurus are resolute and pragmatic, which also makes them good politicians.\n"
   ]
  },
  {
   "cell_type": "code",
   "execution_count": 8,
   "metadata": {},
   "outputs": [
    {
     "data": {
      "image/png": "[encoded data removed]",
      "text/plain": [
       "<Figure size 1100x500 with 1 Axes>"
      ]
     },
     "metadata": {},
     "output_type": "display_data"
    },
    {
     "data": {
      "text/plain": [
       "<ggplot: (195877856347)>"
      ]
     },
     "execution_count": 8,
     "metadata": {},
     "output_type": "execute_result"
    }
   ],
   "source": [
    "df['difference']=df['percent']-8.33\n",
    "df['pc_difference']=df['difference']/8.33*100\n",
    "ggplot(df, aes(x=df.index, y='pc_difference', fill='pc_difference')) \\\n",
    " + geom_bar(stat='identity') \\\n",
    " + labs(x='Zodiac', y='% Difference') \\\n",
    " + theme(figure_size=(11,5))\\\n",
    " + labs(title='Zodiac Distribution of MPs')\\\n",
    " + scale_fill_gradient(low='purple', high='green')\\\n",
    " + geom_hline(yintercept=0, linetype='solid', color='black')"
   ]
  },
  {
   "attachments": {},
   "cell_type": "markdown",
   "metadata": {},
   "source": [
    "# Chinese Zodiac"
   ]
  },
  {
   "cell_type": "code",
   "execution_count": 9,
   "metadata": {},
   "outputs": [],
   "source": [
    "rabbit=[1915, 1927, 1939, 1951, 1963, 1975, 1987, 1999, 2011, 2023]\n",
    "dragon=[1916, 1928, 1940, 1952, 1964, 1976, 1988, 2000, 2012, 2024]\n",
    "snake=[1917, 1929, 1941, 1953, 1965, 1977, 1989, 2001, 2013, 2025]\n",
    "horse=[1918, 1930, 1942, 1954, 1966, 1978, 1990, 2002, 2014, 2026]\n",
    "sheep=[1919, 1931, 1943, 1955, 1967, 1979, 1991, 2003, 2015, 2027]\n",
    "monkey=[1920, 1932, 1944, 1956, 1968, 1980, 1992, 2004, 2016, 2028]\n",
    "rooster=[1921, 1933, 1945, 1957, 1969, 1981, 1993, 2005, 2017, 2029]\n",
    "dog=[1922, 1934, 1946, 1958, 1970, 1982, 1994, 2006, 2018, 2030]\n",
    "pig=[1923, 1935, 1947, 1959, 1971, 1983, 1995, 2007, 2019, 2031]\n",
    "rat=[1924, 1936, 1948, 1960, 1972, 1984, 1996, 2008, 2020, 2032]\n",
    "ox=[1925, 1937, 1949, 1961, 1973, 1985, 1997, 2009, 2021, 2033]\n",
    "tiger=[1926, 1938, 1950, 1962, 1974, 1986, 1998, 2010, 2022, 2034]\n"
   ]
  },
  {
   "cell_type": "code",
   "execution_count": 12,
   "metadata": {},
   "outputs": [],
   "source": [
    "def year_to_zodiac(year):\n",
    "    if year in rabbit:\n",
    "        return 'Rabbit'\n",
    "    if year in dragon:\n",
    "        return 'Dragon'\n",
    "    if year in snake:\n",
    "        return 'Snake'\n",
    "    if year in horse:\n",
    "        return 'Horse'\n",
    "    if year in sheep:\n",
    "        return 'Sheep'\n",
    "    if year in monkey:\n",
    "        return 'Monkey'\n",
    "    if year in rooster:\n",
    "        return 'Rooster'\n",
    "    if year in dog:\n",
    "        return 'Dog'\n",
    "    if year in pig:\n",
    "        return 'Pig'\n",
    "    if year in rat:\n",
    "        return 'Rat'\n",
    "    if year in ox:\n",
    "        return 'Ox'\n",
    "    if year in tiger:\n",
    "        return 'Tiger'"
   ]
  },
  {
   "cell_type": "code",
   "execution_count": 42,
   "metadata": {},
   "outputs": [
    {
     "name": "stderr",
     "output_type": "stream",
     "text": [
      "C:\\Users\\Ojas\\AppData\\Local\\Temp\\ipykernel_23168\\3295137955.py:1: DtypeWarning: Columns (18,19,20,22) have mixed types. Specify dtype option on import or set low_memory=False.\n"
     ]
    },
    {
     "data": {
      "text/html": [
       "<div>\n",
       "<style scoped>\n",
       "    .dataframe tbody tr th:only-of-type {\n",
       "        vertical-align: middle;\n",
       "    }\n",
       "\n",
       "    .dataframe tbody tr th {\n",
       "        vertical-align: top;\n",
       "    }\n",
       "\n",
       "    .dataframe thead th {\n",
       "        text-align: right;\n",
       "    }\n",
       "</style>\n",
       "<table border=\"1\" class=\"dataframe\">\n",
       "  <thead>\n",
       "    <tr style=\"text-align: right;\">\n",
       "      <th></th>\n",
       "      <th>name</th>\n",
       "      <th>percent</th>\n",
       "      <th>difference</th>\n",
       "      <th>pc_difference</th>\n",
       "    </tr>\n",
       "  </thead>\n",
       "  <tbody>\n",
       "    <tr>\n",
       "      <th>Rabbit</th>\n",
       "      <td>3667</td>\n",
       "      <td>8.51</td>\n",
       "      <td>0.18</td>\n",
       "      <td>2.16</td>\n",
       "    </tr>\n",
       "    <tr>\n",
       "      <th>Dragon</th>\n",
       "      <td>3664</td>\n",
       "      <td>8.51</td>\n",
       "      <td>0.18</td>\n",
       "      <td>2.16</td>\n",
       "    </tr>\n",
       "    <tr>\n",
       "      <th>Snake</th>\n",
       "      <td>3566</td>\n",
       "      <td>8.28</td>\n",
       "      <td>-0.05</td>\n",
       "      <td>-0.60</td>\n",
       "    </tr>\n",
       "    <tr>\n",
       "      <th>Horse</th>\n",
       "      <td>3591</td>\n",
       "      <td>8.34</td>\n",
       "      <td>0.01</td>\n",
       "      <td>0.12</td>\n",
       "    </tr>\n",
       "    <tr>\n",
       "      <th>Sheep</th>\n",
       "      <td>3654</td>\n",
       "      <td>8.48</td>\n",
       "      <td>0.15</td>\n",
       "      <td>1.80</td>\n",
       "    </tr>\n",
       "    <tr>\n",
       "      <th>Monkey</th>\n",
       "      <td>3563</td>\n",
       "      <td>8.27</td>\n",
       "      <td>-0.06</td>\n",
       "      <td>-0.72</td>\n",
       "    </tr>\n",
       "    <tr>\n",
       "      <th>Rooster</th>\n",
       "      <td>3509</td>\n",
       "      <td>8.15</td>\n",
       "      <td>-0.18</td>\n",
       "      <td>-2.16</td>\n",
       "    </tr>\n",
       "    <tr>\n",
       "      <th>Dog</th>\n",
       "      <td>3529</td>\n",
       "      <td>8.19</td>\n",
       "      <td>-0.14</td>\n",
       "      <td>-1.68</td>\n",
       "    </tr>\n",
       "    <tr>\n",
       "      <th>Pig</th>\n",
       "      <td>3533</td>\n",
       "      <td>8.20</td>\n",
       "      <td>-0.13</td>\n",
       "      <td>-1.56</td>\n",
       "    </tr>\n",
       "    <tr>\n",
       "      <th>Rat</th>\n",
       "      <td>3748</td>\n",
       "      <td>8.70</td>\n",
       "      <td>0.37</td>\n",
       "      <td>4.44</td>\n",
       "    </tr>\n",
       "    <tr>\n",
       "      <th>Ox</th>\n",
       "      <td>3421</td>\n",
       "      <td>7.94</td>\n",
       "      <td>-0.39</td>\n",
       "      <td>-4.68</td>\n",
       "    </tr>\n",
       "    <tr>\n",
       "      <th>Tiger</th>\n",
       "      <td>3626</td>\n",
       "      <td>8.42</td>\n",
       "      <td>0.09</td>\n",
       "      <td>1.08</td>\n",
       "    </tr>\n",
       "  </tbody>\n",
       "</table>\n",
       "</div>"
      ],
      "text/plain": [
       "         name  percent  difference  pc_difference\n",
       "Rabbit   3667     8.51        0.18           2.16\n",
       "Dragon   3664     8.51        0.18           2.16\n",
       "Snake    3566     8.28       -0.05          -0.60\n",
       "Horse    3591     8.34        0.01           0.12\n",
       "Sheep    3654     8.48        0.15           1.80\n",
       "Monkey   3563     8.27       -0.06          -0.72\n",
       "Rooster  3509     8.15       -0.18          -2.16\n",
       "Dog      3529     8.19       -0.14          -1.68\n",
       "Pig      3533     8.20       -0.13          -1.56\n",
       "Rat      3748     8.70        0.37           4.44\n",
       "Ox       3421     7.94       -0.39          -4.68\n",
       "Tiger    3626     8.42        0.09           1.08"
      ]
     },
     "execution_count": 42,
     "metadata": {},
     "output_type": "execute_result"
    }
   ],
   "source": [
    "data=pd.read_csv('../data/data_included.csv')\n",
    "data['birth_date']=pd.to_datetime(data['birth_date'], errors='coerce')\n",
    "data['year']=data['birth_date'].dt.year\n",
    "data['zodiac']=data['year'].apply(year_to_zodiac)\n",
    "count_df=data.groupby('zodiac').count()[['name']]\n",
    "count_df['percent']=count_df['name']/count_df['name'].sum()*100\n",
    "count_df['percent']=count_df['percent'].round(2)\n",
    "count_df['difference']=count_df['percent']-8.33\n",
    "count_df['pc_difference']=(count_df['difference']/8.33*100).round(2)\n",
    "count_df=count_df.reindex(['Rabbit', 'Dragon', 'Snake', 'Horse', 'Sheep', 'Monkey', 'Rooster', 'Dog', 'Pig', 'Rat', 'Ox', 'Tiger'])\n",
    "count_df.index=pd.CategoricalIndex(['Rabbit', 'Dragon', 'Snake', 'Horse', 'Sheep', 'Monkey', 'Rooster', 'Dog', 'Pig', 'Rat', 'Ox', 'Tiger'], ordered=True)\n",
    "count_df"
   ]
  },
  {
   "cell_type": "code",
   "execution_count": 46,
   "metadata": {},
   "outputs": [
    {
     "data": {
      "image/png": "[encoded data removed]",
      "text/plain": [
       "<Figure size 640x480 with 1 Axes>"
      ]
     },
     "metadata": {},
     "output_type": "display_data"
    },
    {
     "data": {
      "text/plain": [
       "<ggplot: (195907438294)>"
      ]
     },
     "execution_count": 46,
     "metadata": {},
     "output_type": "execute_result"
    }
   ],
   "source": [
    "from plotnine import *\n",
    "ggplot(count_df, aes(x=count_df.index, y='pc_difference', fill='pc_difference')) \\\n",
    "    + geom_bar(stat='identity')"
   ]
  }
 ],
 "metadata": {
  "kernelspec": {
   "display_name": "base",
   "language": "python",
   "name": "python3"
  },
  "language_info": {
   "codemirror_mode": {
    "name": "ipython",
    "version": 3
   },
   "file_extension": ".py",
   "mimetype": "text/x-python",
   "name": "python",
   "nbconvert_exporter": "python",
   "pygments_lexer": "ipython3",
   "version": "3.9.12"
  },
  "orig_nbformat": 4
 },
 "nbformat": 4,
 "nbformat_minor": 2
}
