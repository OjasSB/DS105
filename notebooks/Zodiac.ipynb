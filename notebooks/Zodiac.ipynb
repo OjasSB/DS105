{
 "cells": [
  {
   "cell_type": "code",
   "execution_count": 1,
   "metadata": {},
   "outputs": [
    {
     "name": "stderr",
     "output_type": "stream",
     "text": [
      "C:\\Users\\Ojas\\AppData\\Local\\Temp\\ipykernel_20820\\2041111253.py:2: DtypeWarning: Columns (18,19,20,22) have mixed types. Specify dtype option on import or set low_memory=False.\n",
      "  data=pd.read_csv('../data/data_included.csv')\n"
     ]
    }
   ],
   "source": [
    "import pandas as pd\n",
    "data=pd.read_csv('../data/data_included.csv')"
   ]
  },
  {
   "cell_type": "code",
   "execution_count": 2,
   "metadata": {},
   "outputs": [],
   "source": [
    "data=data[data.birth_date.str.len()==10]\n",
    "data['birth_date']=pd.to_datetime(data['birth_date'], errors='coerce')\n",
    "data['month']=data['birth_date'].dt.month.astype(str).astype(float)\n",
    "data['day']=data['birth_date'].dt.day.astype(str).astype(float)"
   ]
  },
  {
   "cell_type": "code",
   "execution_count": 3,
   "metadata": {},
   "outputs": [],
   "source": [
    "#Taurus—April 20-May 20\n",
    "taurus=data[((data['month']==4) & (data['day']>19)) | ((data['month']==5) & (data['day']<21))]\n",
    "#Gemini—May 21-June 20\n",
    "gemini=data[((data['month']==5) & (data['day']>20)) | ((data['month']==6) & (data['day']<21))]\n",
    "#Cancer—June 21-July 22\n",
    "cancer=data[((data['month']==6) & (data['day']>20)) | ((data['month']==7) & (data['day']<23))]\n",
    "#Leo—July 23-August 22\n",
    "leo=data[((data['month']==7) & (data['day']>22)) | ((data['month']==8) & (data['day']<23))]\n",
    "#Virgo—August 23-September 22\n",
    "virgo=data[((data['month']==8) & (data['day']>22)) | ((data['month']==9) & (data['day']<23))]\n",
    "#Libra—September 23-October 22\n",
    "libra=data[((data['month']==9) & (data['day']>22)) | ((data['month']==10) & (data['day']<23))]\n",
    "#Scorpio—October 23-November 21\n",
    "scorpio=data[((data['month']==10) & (data['day']>22)) | ((data['month']==11) & (data['day']<22))]\n",
    "#Sagittarius—November 22-December 21\n",
    "sagittarius=data[((data['month']==11) & (data['day']>21)) | ((data['month']==12) & (data['day']<22))]\n",
    "#Capricorn—December 22-January 19\n",
    "capricorn=data[((data['month']==12) & (data['day']>21)) | ((data['month']==1) & (data['day']<20))]\n",
    "#Aquarius—January 20-February 18\n",
    "aquarius=data[((data['month']==1) & (data['day']>19)) | ((data['month']==2) & (data['day']<19))]\n",
    "#Pisces—February 19-March 20\n",
    "pisces=data[((data['month']==2) & (data['day']>18)) | ((data['month']==3) & (data['day']<21))]\n",
    "#Aries—March 21-April 19\n",
    "aries=data[((data['month']==3) & (data['day']>20)) | ((data['month']==4) & (data['day']<20))]\n"
   ]
  },
  {
   "cell_type": "code",
   "execution_count": 4,
   "metadata": {},
   "outputs": [
    {
     "data": {
      "text/html": [
       "<div>\n",
       "<style scoped>\n",
       "    .dataframe tbody tr th:only-of-type {\n",
       "        vertical-align: middle;\n",
       "    }\n",
       "\n",
       "    .dataframe tbody tr th {\n",
       "        vertical-align: top;\n",
       "    }\n",
       "\n",
       "    .dataframe thead th {\n",
       "        text-align: right;\n",
       "    }\n",
       "</style>\n",
       "<table border=\"1\" class=\"dataframe\">\n",
       "  <thead>\n",
       "    <tr style=\"text-align: right;\">\n",
       "      <th></th>\n",
       "      <th>count</th>\n",
       "    </tr>\n",
       "  </thead>\n",
       "  <tbody>\n",
       "    <tr>\n",
       "      <th>Aries</th>\n",
       "      <td>3293</td>\n",
       "    </tr>\n",
       "    <tr>\n",
       "      <th>Taurus</th>\n",
       "      <td>3527</td>\n",
       "    </tr>\n",
       "    <tr>\n",
       "      <th>Gemini</th>\n",
       "      <td>3415</td>\n",
       "    </tr>\n",
       "    <tr>\n",
       "      <th>Cancer</th>\n",
       "      <td>3557</td>\n",
       "    </tr>\n",
       "    <tr>\n",
       "      <th>Leo</th>\n",
       "      <td>3401</td>\n",
       "    </tr>\n",
       "    <tr>\n",
       "      <th>Virgo</th>\n",
       "      <td>3368</td>\n",
       "    </tr>\n",
       "    <tr>\n",
       "      <th>Libra</th>\n",
       "      <td>3270</td>\n",
       "    </tr>\n",
       "    <tr>\n",
       "      <th>Scorpio</th>\n",
       "      <td>3008</td>\n",
       "    </tr>\n",
       "    <tr>\n",
       "      <th>Sagittarius</th>\n",
       "      <td>3164</td>\n",
       "    </tr>\n",
       "    <tr>\n",
       "      <th>Capricorn</th>\n",
       "      <td>3226</td>\n",
       "    </tr>\n",
       "    <tr>\n",
       "      <th>Aquarius</th>\n",
       "      <td>3315</td>\n",
       "    </tr>\n",
       "    <tr>\n",
       "      <th>Pisces</th>\n",
       "      <td>3356</td>\n",
       "    </tr>\n",
       "  </tbody>\n",
       "</table>\n",
       "</div>"
      ],
      "text/plain": [
       "             count\n",
       "Aries         3293\n",
       "Taurus        3527\n",
       "Gemini        3415\n",
       "Cancer        3557\n",
       "Leo           3401\n",
       "Virgo         3368\n",
       "Libra         3270\n",
       "Scorpio       3008\n",
       "Sagittarius   3164\n",
       "Capricorn     3226\n",
       "Aquarius      3315\n",
       "Pisces        3356"
      ]
     },
     "execution_count": 4,
     "metadata": {},
     "output_type": "execute_result"
    }
   ],
   "source": [
    "df=pd.DataFrame([aries.shape[0], taurus.shape[0], gemini.shape[0], cancer.shape[0], leo.shape[0], virgo.shape[0], libra.shape[0], scorpio.shape[0], sagittarius.shape[0], capricorn.shape[0], aquarius.shape[0], pisces.shape[0]] , columns=['count'], index=[ 'Aries','Taurus', 'Gemini', 'Cancer', 'Leo', 'Virgo', 'Libra', 'Scorpio', 'Sagittarius', 'Capricorn', 'Aquarius', 'Pisces'])\n",
    "df.index=pd.CategoricalIndex(df.index, categories=['Aries','Taurus', 'Gemini', 'Cancer', 'Leo', 'Virgo', 'Libra', 'Scorpio', 'Sagittarius', 'Capricorn', 'Aquarius', 'Pisces'], ordered=True)\n",
    "df"
   ]
  },
  {
   "cell_type": "code",
   "execution_count": 5,
   "metadata": {},
   "outputs": [
    {
     "data": {
      "text/html": [
       "<div>\n",
       "<style scoped>\n",
       "    .dataframe tbody tr th:only-of-type {\n",
       "        vertical-align: middle;\n",
       "    }\n",
       "\n",
       "    .dataframe tbody tr th {\n",
       "        vertical-align: top;\n",
       "    }\n",
       "\n",
       "    .dataframe thead th {\n",
       "        text-align: right;\n",
       "    }\n",
       "</style>\n",
       "<table border=\"1\" class=\"dataframe\">\n",
       "  <thead>\n",
       "    <tr style=\"text-align: right;\">\n",
       "      <th></th>\n",
       "      <th>count</th>\n",
       "      <th>percent</th>\n",
       "    </tr>\n",
       "  </thead>\n",
       "  <tbody>\n",
       "    <tr>\n",
       "      <th>Aries</th>\n",
       "      <td>3293</td>\n",
       "      <td>8.25</td>\n",
       "    </tr>\n",
       "    <tr>\n",
       "      <th>Taurus</th>\n",
       "      <td>3527</td>\n",
       "      <td>8.84</td>\n",
       "    </tr>\n",
       "    <tr>\n",
       "      <th>Gemini</th>\n",
       "      <td>3415</td>\n",
       "      <td>8.56</td>\n",
       "    </tr>\n",
       "    <tr>\n",
       "      <th>Cancer</th>\n",
       "      <td>3557</td>\n",
       "      <td>8.91</td>\n",
       "    </tr>\n",
       "    <tr>\n",
       "      <th>Leo</th>\n",
       "      <td>3401</td>\n",
       "      <td>8.52</td>\n",
       "    </tr>\n",
       "    <tr>\n",
       "      <th>Virgo</th>\n",
       "      <td>3368</td>\n",
       "      <td>8.44</td>\n",
       "    </tr>\n",
       "    <tr>\n",
       "      <th>Libra</th>\n",
       "      <td>3270</td>\n",
       "      <td>8.20</td>\n",
       "    </tr>\n",
       "    <tr>\n",
       "      <th>Scorpio</th>\n",
       "      <td>3008</td>\n",
       "      <td>7.54</td>\n",
       "    </tr>\n",
       "    <tr>\n",
       "      <th>Sagittarius</th>\n",
       "      <td>3164</td>\n",
       "      <td>7.93</td>\n",
       "    </tr>\n",
       "    <tr>\n",
       "      <th>Capricorn</th>\n",
       "      <td>3226</td>\n",
       "      <td>8.09</td>\n",
       "    </tr>\n",
       "    <tr>\n",
       "      <th>Aquarius</th>\n",
       "      <td>3315</td>\n",
       "      <td>8.31</td>\n",
       "    </tr>\n",
       "    <tr>\n",
       "      <th>Pisces</th>\n",
       "      <td>3356</td>\n",
       "      <td>8.41</td>\n",
       "    </tr>\n",
       "  </tbody>\n",
       "</table>\n",
       "</div>"
      ],
      "text/plain": [
       "             count  percent\n",
       "Aries         3293     8.25\n",
       "Taurus        3527     8.84\n",
       "Gemini        3415     8.56\n",
       "Cancer        3557     8.91\n",
       "Leo           3401     8.52\n",
       "Virgo         3368     8.44\n",
       "Libra         3270     8.20\n",
       "Scorpio       3008     7.54\n",
       "Sagittarius   3164     7.93\n",
       "Capricorn     3226     8.09\n",
       "Aquarius      3315     8.31\n",
       "Pisces        3356     8.41"
      ]
     },
     "execution_count": 5,
     "metadata": {},
     "output_type": "execute_result"
    }
   ],
   "source": [
    "df['percent']=df['count']/df['count'].sum()*100\n",
    "df['percent']=df['percent'].round(2)\n",
    "df"
   ]
  },
  {
   "cell_type": "code",
   "execution_count": 10,
   "metadata": {},
   "outputs": [
    {
     "data": {
      "image/png": "[encoded data removed]",
      "text/plain": [
       "<Figure size 1100x500 with 1 Axes>"
      ]
     },
     "metadata": {},
     "output_type": "display_data"
    },
    {
     "data": {
      "text/plain": [
       "<ggplot: (169757324689)>"
      ]
     },
     "execution_count": 10,
     "metadata": {},
     "output_type": "execute_result"
    }
   ],
   "source": [
    "from plotnine import *\n",
    "ggplot(df, aes(x=df.index, y='percent')) \\\n",
    " + geom_bar(stat='identity', fill='#CF88CF') \\\n",
    " + labs(x='Zodiac', y='Count') \\\n",
    " + theme(figure_size=(11,5))\\\n",
    " + labs(title='Zodiac Distribution of MPs')\\\n",
    " + geom_hline(yintercept=8.33, linetype='dashed', color='blue')"
   ]
  },
  {
   "cell_type": "code",
   "execution_count": 7,
   "metadata": {},
   "outputs": [],
   "source": [
    "# Scorpios tend to be loyal and honest, which is why they do not make successful politicians.\n",
    "# Saggitarians also don't do well because they are optimistic and philosophical.\n",
    "# Cancerians are charismatic, attractive, and manipulative, which is why they do well in politics.\n",
    "# Taurus are resolute and pragmatic, which also makes them good politicians.\n"
   ]
  },
  {
   "cell_type": "code",
   "execution_count": 8,
   "metadata": {},
   "outputs": [
    {
     "data": {
      "image/png": "[encoded data removed]",
      "text/plain": [
       "<Figure size 1100x500 with 1 Axes>"
      ]
     },
     "metadata": {},
     "output_type": "display_data"
    },
    {
     "data": {
      "text/plain": [
       "<ggplot: (169756658101)>"
      ]
     },
     "execution_count": 8,
     "metadata": {},
     "output_type": "execute_result"
    }
   ],
   "source": [
    "df['difference']=df['percent']-8.33\n",
    "ggplot(df, aes(x=df.index, y='difference')) \\\n",
    " + geom_bar(stat='identity', fill='#CF88CF') \\\n",
    " + labs(x='Zodiac', y='% Difference') \\\n",
    " + theme(figure_size=(11,5))\\\n",
    " + labs(title='Zodiac Distribution of MPs')\\\n",
    " + geom_hline(yintercept=0, linetype='dashed', color='blue')"
   ]
  }
 ],
 "metadata": {
  "kernelspec": {
   "display_name": "base",
   "language": "python",
   "name": "python3"
  },
  "language_info": {
   "codemirror_mode": {
    "name": "ipython",
    "version": 3
   },
   "file_extension": ".py",
   "mimetype": "text/x-python",
   "name": "python",
   "nbconvert_exporter": "python",
   "pygments_lexer": "ipython3",
   "version": "3.9.12"
  },
  "orig_nbformat": 4
 },
 "nbformat": 4,
 "nbformat_minor": 2
}
