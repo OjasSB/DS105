{
 "cells": [
  {
   "cell_type": "code",
   "execution_count": 1,
   "metadata": {},
   "outputs": [
    {
     "name": "stderr",
     "output_type": "stream",
     "text": [
      "C:\\Users\\Ojas\\AppData\\Local\\Temp\\ipykernel_21232\\1496657647.py:3: DtypeWarning: Columns (18,19,20,21) have mixed types. Specify dtype option on import or set low_memory=False.\n",
      "  data=pd.read_csv('../data/data.csv')\n"
     ]
    }
   ],
   "source": [
    "# Read data\n",
    "import pandas as pd\n",
    "data=pd.read_csv('../data/data.csv')"
   ]
  },
  {
   "cell_type": "code",
   "execution_count": 2,
   "metadata": {},
   "outputs": [
    {
     "data": {
      "text/plain": [
       "19        6.0\n",
       "28        6.0\n",
       "41        7.0\n",
       "43        3.0\n",
       "93        5.0\n",
       "         ... \n",
       "78373    10.0\n",
       "78374     5.0\n",
       "78377     5.0\n",
       "78379     4.0\n",
       "78380     7.0\n",
       "Name: given_name, Length: 40468, dtype: float64"
      ]
     },
     "execution_count": 2,
     "metadata": {},
     "output_type": "execute_result"
    }
   ],
   "source": [
    "# Calculate the length of name\n",
    "name_lens=data['given_name'].str.len()\n",
    "name_lens.dropna(inplace=True)\n",
    "name_lens"
   ]
  },
  {
   "cell_type": "code",
   "execution_count": 3,
   "metadata": {},
   "outputs": [
    {
     "data": {
      "text/plain": [
       "count    40468.000000\n",
       "mean         6.367723\n",
       "std          2.676202\n",
       "min          2.000000\n",
       "25%          5.000000\n",
       "50%          6.000000\n",
       "75%          7.000000\n",
       "max         61.000000\n",
       "Name: given_name, dtype: float64"
      ]
     },
     "execution_count": 3,
     "metadata": {},
     "output_type": "execute_result"
    }
   ],
   "source": [
    "# Summary statistics\n",
    "name_lens.describe()"
   ]
  },
  {
   "cell_type": "code",
   "execution_count": 4,
   "metadata": {},
   "outputs": [
    {
     "data": {
      "image/png": "[encoded data removed]",
      "text/plain": [
       "<Figure size 640x480 with 1 Axes>"
      ]
     },
     "metadata": {},
     "output_type": "display_data"
    },
    {
     "data": {
      "text/plain": [
       "<ggplot: (111399658189)>"
      ]
     },
     "execution_count": 4,
     "metadata": {},
     "output_type": "execute_result"
    }
   ],
   "source": [
    "# Plot the distribution of name lengths\n",
    "\n",
    "# Remove outliers that could skew the plot\n",
    "name_lens.drop(name_lens[name_lens>20].index,inplace=True)\n",
    "\n",
    "from plotnine import *\n",
    "(ggplot(data=pd.DataFrame({'name_length':name_lens}), mapping=aes(x='name_length', y='stat(count)', fill='stat(count)'))\n",
    "    +geom_bar(stat='bin', binwidth=1, fill='#4C72B0', color='black')\n",
    "    +labs(x='Name length', y='Count', title='Distribution of name lengths'))"
   ]
  },
  {
   "attachments": {},
   "cell_type": "markdown",
   "metadata": {},
   "source": [
    "This is similar to the general population distribution of name lengths, with an average of 6. The data does not indicate that shorter names would be preferred in politicians."
   ]
  }
 ],
 "metadata": {
  "kernelspec": {
   "display_name": "base",
   "language": "python",
   "name": "python3"
  },
  "language_info": {
   "codemirror_mode": {
    "name": "ipython",
    "version": 3
   },
   "file_extension": ".py",
   "mimetype": "text/x-python",
   "name": "python",
   "nbconvert_exporter": "python",
   "pygments_lexer": "ipython3",
   "version": "3.9.12"
  },
  "orig_nbformat": 4
 },
 "nbformat": 4,
 "nbformat_minor": 2
}
